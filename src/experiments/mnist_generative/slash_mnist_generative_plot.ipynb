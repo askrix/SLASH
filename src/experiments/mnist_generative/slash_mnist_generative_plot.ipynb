{
 "cells": [
  {
   "cell_type": "markdown",
   "metadata": {},
   "source": [
    "# MNIST Digit Addition\n",
    "This notebook provides information on how to generate images within SLASH"
   ]
  },
  {
   "cell_type": "code",
   "execution_count": null,
   "metadata": {},
   "outputs": [],
   "source": [
    "import matplotlib\n",
    "import matplotlib.pyplot as plt\n",
    "import matplotlib.image as mpimg\n",
    "\n",
    "img = mpimg.imread('data/generative_overview.png')\n",
    "plt.axis('off')\n",
    "plt.imshow(img)\n",
    "plt.show()"
   ]
  },
  {
   "cell_type": "markdown",
   "metadata": {},
   "source": [
    "Qualitative comparison of Generative MNIST-Addition: each row is entailing images per class. The first one are ground truths obtained from the dataset, the second one represents the sampled images from a PC trained solely in a generative way. The last two rows are sampled from the NPP trained within SLASH. The third row depicts images after an epoch of the discriminative learning step, and the last row after a one epoch of generative step.\n"
   ]
  },
  {
   "cell_type": "markdown",
   "metadata": {},
   "source": [
    "### Generative training in SLASH"
   ]
  },
  {
   "cell_type": "code",
   "execution_count": null,
   "metadata": {},
   "outputs": [],
   "source": [
    "import train\n",
    "\n",
    "seed = 1\n",
    "drop_out = 0.0\n",
    "\n",
    "\n",
    "exp_name = f'pc-generative-poon-domingos-normal-seed-{seed}-epochs-100-pd-7'\n",
    "exp_dict = {'structure':'poon-domingos', 'pd_num_pieces':[7],\n",
    "                'use_spn':True, 'credentials':'DO', 'seed':seed, 'learn_prior':True,\n",
    "                'lr':0.01, 'bs':100, 'epochs':30, 'p_num':8, 'drop_out':0.0}\n",
    "    "
   ]
  },
  {
   "cell_type": "code",
   "execution_count": null,
   "metadata": {},
   "outputs": [],
   "source": [
    "print(\"Experiment's folder is %s\" % exp_name)\n",
    "train.slash_mnist_addition(exp_name, exp_dict)"
   ]
  },
  {
   "cell_type": "markdown",
   "metadata": {},
   "source": [
    "#### show experiment results"
   ]
  },
  {
   "cell_type": "code",
   "execution_count": null,
   "metadata": {},
   "outputs": [],
   "source": [
    "import torch\n",
    "sys.path.append('../../')\n",
    "sys.path.append('../../SLASH/')\n",
    "sys.path.append('../../EinsumNetworks/src/')\n",
    "from einsum_wrapper import EiNet\n",
    "\n",
    "EPOCH = 1\n",
    "\n",
    "#use probabilisitc circuit\n",
    "#setup new SLASH program given the network parameters\n",
    "m = EiNet(structure = exp_dict['structure'],\n",
    "                pd_num_pieces = exp_dict['pd_num_pieces'],\n",
    "                use_em = False,\n",
    "                num_var = 784,\n",
    "                class_count = 10,\n",
    "                #K = 40,\n",
    "                #num_sums = 40,\n",
    "                pd_width = 28,\n",
    "                pd_height = 28,\n",
    "                learn_prior = exp_dict['learn_prior'])\n",
    "\n",
    "\n",
    "\n",
    "print(\"loading model after EM STEP\")\n",
    "saved_model = torch.load(\"data/\"+exp_name+\"/slash_digit_addition_models_generative_e\"+str(EPOCH)+\".pt\")\n",
    "m.load_state_dict(saved_model['addition_net'])\n",
    "\n",
    "fig, axs = plt.subplots(10,10)\n",
    "\n",
    "plt.rcParams['figure.constrained_layout.use'] = True\n",
    "fig.set_figheight(10)\n",
    "fig.set_figwidth(10)\n",
    "\n",
    "#for each class\n",
    "for c in range(0,10):\n",
    "    samples = m.sample(num_samples=10, class_idx=c).cpu().numpy()\n",
    "    samples = samples.reshape((-1, 28, 28))\n",
    "    for i,s in enumerate(samples):\n",
    "        axs[i,c].axis('off')\n",
    "        axs[i,c].imshow(s, cmap='gray')\n",
    "plt.subplots_adjust(wspace=0, hspace=0)\n",
    "plt.show()\n",
    "\n",
    "print(\"loading model after SLASH STEP\")\n",
    "saved_model = torch.load(\"data/\"+exp_name+\"/slash_digit_addition_models_slash_e\"+str(EPOCH)+\".pt\")\n",
    "m.load_state_dict(saved_model['addition_net'])\n",
    "\n",
    "fig, axs = plt.subplots(10,10)\n",
    "\n",
    "plt.rcParams['figure.constrained_layout.use'] = True\n",
    "fig.set_figheight(10)\n",
    "fig.set_figwidth(10)\n",
    "\n",
    "#for each class\n",
    "for c in range(0,10):\n",
    "    samples = m.sample(num_samples=10, class_idx=c).cpu().numpy()\n",
    "    samples = samples.reshape((-1, 28, 28))\n",
    "    for i,s in enumerate(samples):\n",
    "        axs[i,c].axis('off')\n",
    "        axs[i,c].imshow(s, cmap='gray')\n",
    "plt.subplots_adjust(wspace=0, hspace=0)\n",
    "plt.show()\n",
    "\n"
   ]
  }
 ],
 "metadata": {
  "kernelspec": {
   "display_name": "Python 3",
   "language": "python",
   "name": "python3"
  },
  "language_info": {
   "codemirror_mode": {
    "name": "ipython",
    "version": 3
   },
   "file_extension": ".py",
   "mimetype": "text/x-python",
   "name": "python",
   "nbconvert_exporter": "python",
   "pygments_lexer": "ipython3",
   "version": "3.8.12"
  }
 },
 "nbformat": 4,
 "nbformat_minor": 4
}
