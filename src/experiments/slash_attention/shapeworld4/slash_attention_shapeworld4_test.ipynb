{
 "cells": [
  {
   "cell_type": "markdown",
   "metadata": {},
   "source": [
    "# SLASH Slot Attention Shapeworld4 experiment test notebook"
   ]
  },
  {
   "cell_type": "code",
   "execution_count": 1,
   "metadata": {},
   "outputs": [],
   "source": [
    "import time\n",
    "import sys\n",
    "sys.path.append('../')\n",
    "sys.path.append('../../../')\n",
    "sys.path.append('../../../SLASH/')\n",
    "sys.path.append('../../../EinsumNetworks/src/')\n",
    "\n",
    "\n",
    "#torch, numpy, ...\n",
    "import torch\n",
    "from torch.utils.tensorboard import SummaryWriter\n",
    "\n",
    "import numpy as np\n",
    "import importlib\n",
    "import matplotlib.pyplot as plt\n",
    "\n",
    "#plt.style.use([\"science\"])  # Need SciencePlots pip package\n",
    "\n",
    "import matplotlib\n",
    "matplotlib.rcParams.update(\n",
    "    {\n",
    "        \"font.family\": \"serif\",\n",
    "        \"text.usetex\": False,\n",
    "    }\n",
    ")\n",
    "\n",
    "\n",
    "import utils\n",
    "import ap_utils\n",
    "import os\n",
    "\n",
    "from slash import SLASH\n",
    "from dataGen import get_loader, get_data_and_object_list, SHAPEWORLD4\n",
    "from tqdm.notebook import tqdm\n",
    "\n",
    "from einsum_wrapper import EiNet\n",
    "from slot_attention_module import SlotAttention_model\n",
    "\n"
   ]
  },
  {
   "cell_type": "markdown",
   "metadata": {},
   "source": [
    "A detection is considered a **true positive** if the discrete predicted properties (obtained with an argmax) exactly match the ground truth. \n",
    "- This excludes predicting the correct background object\n",
    "- If we predict two blue spheres but only have one blue sphere as our ground truth we get one true positve and one false positve\n",
    "\n",
    "A detection is considered a **false positive** if the discrete predicted properties (obtained with an argmax) do not exactly match the ground truth.\n",
    "- If we predict an object with either shape background or color black this is considered a false positive.\n",
    "\n",
    "A detection is considered a **true negative** if the background is predicted correctly.\n",
    "- We have one background prediction for each sample\n",
    "- If we predict two background objects we would get one true negative and one false negative\n",
    "\n",
    "\n"
   ]
  },
  {
   "cell_type": "code",
   "execution_count": null,
   "metadata": {},
   "outputs": [],
   "source": []
  },
  {
   "cell_type": "code",
   "execution_count": 2,
   "metadata": {},
   "outputs": [
    {
     "name": "stdout",
     "output_type": "stream",
     "text": [
      "{'structure': 'poon-domingos', 'pd_num_pieces': [4], 'lr': 0.01, 'bs': 512, 'epochs': 1100, 'lr_warmup_steps': 8, 'lr_decay_steps': 368, 'start_date': '19-01-2022', 'resume': True, 'credentials': 'DO', 'seed': 1, 'p_num': 8, 'explanation': 'Running the whole SlotAttention+Slash pipeline using poon-domingos as SPN structure learner.', 'depth': None, 'num_repetitions': None}\n",
      "dict_keys(['shape_net', 'color_net', 'shade_net', 'size_net', 'slot_net', 'resume', 'test_ll_list', 'test_ap_list', 'loss_list', 'test_metric_list', 'lr_list', 'num_params', 'time', 'exp_dict', 'program'])\n",
      "using poon-domingos\n",
      "P(C) is learnable.\n",
      "P(C) is tensor([-2.1972, -2.1972, -2.1972, -2.1972, -2.1972, -2.1972, -2.1972, -2.1972,\n",
      "        -2.1972], device='cuda:0', requires_grad=True)\n",
      "train SPN with EM: False\n",
      "P(C) is learnable.\n",
      "P(C) is tensor([-1.3863, -1.3863, -1.3863, -1.3863], device='cuda:0',\n",
      "       grad_fn=<LogBackward>)\n",
      "train SPN with EM: False\n",
      "P(C) is learnable.\n",
      "P(C) is tensor([-1.0986, -1.0986, -1.0986], device='cuda:0', requires_grad=True)\n",
      "train SPN with EM: False\n",
      "P(C) is learnable.\n",
      "P(C) is tensor([-1.0986, -1.0986, -1.0986], device='cuda:0', requires_grad=True)\n",
      "train SPN with EM: False\n"
     ]
    }
   ],
   "source": [
    "#MODEL = \"most_probable_with_slot_with_lr_decay\"\n",
    "MODEL = \"shapeworld4\"\n",
    "#data/one_to_one_pretrained_test_2/slash_slot_models.pt\n",
    "class_count = 3\n",
    "num_slots = 4\n",
    "bg_encoded = False\n",
    "\n",
    "\n",
    "model_path = \"data/\"+MODEL+\"/slash_slot_models.pt\" \n",
    "models = torch.load(model_path)\n",
    "\n",
    "exp_dict = models['exp_dict']\n",
    "print(exp_dict)\n",
    "\n",
    "print(models.keys())\n",
    "program = models['program']\n",
    "\n",
    "#setup new SLASH program given the network parameters\n",
    "if exp_dict['structure'] == 'poon-domingos':\n",
    "    exp_dict['depth'] = None\n",
    "    exp_dict['num_repetitions'] = None\n",
    "    print(\"using poon-domingos\")\n",
    "\n",
    "elif exp_dict['structure'] == 'binary-trees':\n",
    "    exp_dict['pd_num_pieces'] = None\n",
    "    print(\"using binary-trees\")\n",
    "\n",
    "\n",
    "#NETWORKS\n",
    "\n",
    "#color network\n",
    "color_net = EiNet(structure = exp_dict['structure'],\n",
    "    pd_num_pieces = exp_dict['pd_num_pieces'],\n",
    "    depth = exp_dict['depth'],\n",
    "    num_repetitions = exp_dict['num_repetitions'],\n",
    "    num_var = 32,\n",
    "    class_count=9,\n",
    "    pd_width=8,pd_height=4,\n",
    "    use_em= False)\n",
    "\n",
    "#shape network\n",
    "shape_net = EiNet(structure = exp_dict['structure'],\n",
    "    pd_num_pieces = exp_dict['pd_num_pieces'],\n",
    "    depth = exp_dict['depth'],\n",
    "    num_repetitions = exp_dict['num_repetitions'],\n",
    "    num_var = 32,\n",
    "    class_count=4,\n",
    "    pd_width=8,pd_height=4,\n",
    "    use_em= False)\n",
    "\n",
    "#shade network\n",
    "shade_net = EiNet(structure = exp_dict['structure'],\n",
    "    pd_num_pieces = exp_dict['pd_num_pieces'],\n",
    "    depth = exp_dict['depth'],\n",
    "    num_repetitions = exp_dict['num_repetitions'],\n",
    "    num_var = 32,\n",
    "    class_count=3,\n",
    "    pd_width=8,pd_height=4,\n",
    "    use_em= False)\n",
    "\n",
    "#size network\n",
    "size_net = EiNet(structure = exp_dict['structure'],\n",
    "    pd_num_pieces = exp_dict['pd_num_pieces'],\n",
    "    depth = exp_dict['depth'],\n",
    "    num_repetitions = exp_dict['num_repetitions'],\n",
    "    num_var = 32,\n",
    "    class_count=3,\n",
    "    pd_width=8,pd_height=4,\n",
    "    use_em= False)\n",
    "    \n",
    "#create the Slot Attention network\n",
    "slot_net = SlotAttention_model(n_slots=num_slots, n_iters=3, n_attr=18,\n",
    "                                encoder_hidden_channels=32, attention_hidden_channels=64,\n",
    "                                decoder_hidden_channels=32, decoder_initial_size=(32, 32)).to(device='cuda')# was 32*32 and 128\n",
    "\n",
    "\"\"\"\n",
    "slot_net_obj_discovery = obj_discovery.SlotAttention_model(n_slots=3, n_iters=3, n_attr=18,\n",
    "                                encoder_hidden_channels=32, attention_hidden_channels=64,\n",
    "                                decoder_hidden_channels=32, decoder_initial_size=(32, 32))#.to(device='cuda')# was 32*32 and 128\n",
    "slot_net_obj_discovery.eval()\n",
    "\"\"\"\n",
    "\n",
    "#load all model parts\n",
    "shape_net.load_state_dict(models['shape_net'])\n",
    "color_net.load_state_dict(models['color_net'])\n",
    "shade_net.load_state_dict(models['shade_net'])\n",
    "size_net.load_state_dict(models['size_net'])\n",
    "\n",
    "slot_net.load_state_dict(models['slot_net'])\n",
    "\n",
    "\n",
    "\n",
    "\n",
    "s_params = list(shape_net.parameters()) + list(slot_net.parameters())\n",
    "c_params = list(color_net.parameters()) + list(slot_net.parameters())\n",
    "\n",
    "\n",
    "#create the SLASH Program\n",
    "nnMapping = {'color': color_net,\n",
    "                 'shape':shape_net,\n",
    "                 'shade':shade_net,\n",
    "                 'size':size_net}\n",
    "optimizers = {'color': torch.optim.Adam(c_params, lr=exp_dict['lr'], eps=1e-7),\n",
    "              'shape':torch.optim.Adam(s_params, lr=exp_dict['lr'], eps=1e-7)}\n",
    "SLASHobj = SLASH(program, nnMapping, optimizers)"
   ]
  },
  {
   "cell_type": "code",
   "execution_count": 3,
   "metadata": {},
   "outputs": [
    {
     "name": "stdout",
     "output_type": "stream",
     "text": [
      "@0.0 size(0,1, s1, small); @0.0 size(0,1, s1, big); @0.0 size(0,1, s1, bg).\n",
      "@0.0 size(0,1, s2, small); @0.0 size(0,1, s2, big); @0.0 size(0,1, s2, bg).\n",
      "@0.0 size(0,1, s3, small); @0.0 size(0,1, s3, big); @0.0 size(0,1, s3, bg).\n",
      "@0.0 size(0,1, s4, small); @0.0 size(0,1, s4, big); @0.0 size(0,1, s4, bg).\n",
      "@0.0 shape(0,1, s1, circle); @0.0 shape(0,1, s1, triangle); @0.0 shape(0,1, s1, square); @0.0 shape(0,1, s1, bg).\n",
      "@0.0 shape(0,1, s2, circle); @0.0 shape(0,1, s2, triangle); @0.0 shape(0,1, s2, square); @0.0 shape(0,1, s2, bg).\n",
      "@0.0 shape(0,1, s3, circle); @0.0 shape(0,1, s3, triangle); @0.0 shape(0,1, s3, square); @0.0 shape(0,1, s3, bg).\n",
      "@0.0 shape(0,1, s4, circle); @0.0 shape(0,1, s4, triangle); @0.0 shape(0,1, s4, square); @0.0 shape(0,1, s4, bg).\n",
      "@0.0 color(0,1, s1, red); @0.0 color(0,1, s1, blue); @0.0 color(0,1, s1, green); @0.0 color(0,1, s1, gray); @0.0 color(0,1, s1, brown); @0.0 color(0,1, s1, magenta); @0.0 color(0,1, s1, cyan); @0.0 color(0,1, s1, yellow); @0.0 color(0,1, s1, black).\n",
      "@0.0 color(0,1, s2, red); @0.0 color(0,1, s2, blue); @0.0 color(0,1, s2, green); @0.0 color(0,1, s2, gray); @0.0 color(0,1, s2, brown); @0.0 color(0,1, s2, magenta); @0.0 color(0,1, s2, cyan); @0.0 color(0,1, s2, yellow); @0.0 color(0,1, s2, black).\n",
      "@0.0 color(0,1, s3, red); @0.0 color(0,1, s3, blue); @0.0 color(0,1, s3, green); @0.0 color(0,1, s3, gray); @0.0 color(0,1, s3, brown); @0.0 color(0,1, s3, magenta); @0.0 color(0,1, s3, cyan); @0.0 color(0,1, s3, yellow); @0.0 color(0,1, s3, black).\n",
      "@0.0 color(0,1, s4, red); @0.0 color(0,1, s4, blue); @0.0 color(0,1, s4, green); @0.0 color(0,1, s4, gray); @0.0 color(0,1, s4, brown); @0.0 color(0,1, s4, magenta); @0.0 color(0,1, s4, cyan); @0.0 color(0,1, s4, yellow); @0.0 color(0,1, s4, black).\n",
      "@0.0 shade(0,1, s1, bright); @0.0 shade(0,1, s1, dark); @0.0 shade(0,1, s1, bg).\n",
      "@0.0 shade(0,1, s2, bright); @0.0 shade(0,1, s2, dark); @0.0 shade(0,1, s2, bg).\n",
      "@0.0 shade(0,1, s3, bright); @0.0 shade(0,1, s3, dark); @0.0 shade(0,1, s3, bg).\n",
      "@0.0 shade(0,1, s4, bright); @0.0 shade(0,1, s4, dark); @0.0 shade(0,1, s4, bg).\n",
      "\n",
      "\n",
      "\n",
      "slot(s1).\n",
      "slot(s2).\n",
      "slot(s3).\n",
      "slot(s4).\n",
      "name(o1).\n",
      "name(o2).\n",
      "name(o3).\n",
      "name(o4).\n",
      "{slot_name_comb(N,X):slot(X)}=1:-name(N).%problemwehavedublicatedslots\n",
      ":-slot_name_comb(N1,X1),slot_name_comb(N2,X2),X1==X2,N1!=N2.\n",
      "object(N,C,S,H,Z):-color(0,1,X,C),shape(0,1,X,S),shade(0,1,X,H),size(0,1,X,Z),slot(X),name(N),slot_name_comb(N,X).\n"
     ]
    }
   ],
   "source": [
    "#self.mvpp['program'], self.mvpp['program_pr'], self.mvpp['program_asp'] = self.parse(query='')\n",
    "\n",
    "print(SLASHobj.mvpp['program_pr'])\n",
    "\n",
    "print(\"\\n\\n\")\n",
    "print(SLASHobj.mvpp['program_asp'])"
   ]
  },
  {
   "cell_type": "markdown",
   "metadata": {},
   "source": [
    "# Model predictions"
   ]
  },
  {
   "cell_type": "code",
   "execution_count": 4,
   "metadata": {},
   "outputs": [
    {
     "name": "stderr",
     "output_type": "stream",
     "text": [
      "100%|██████████| 5/5 [00:04<00:00,  1.20it/s]"
     ]
    },
    {
     "name": "stdout",
     "output_type": "stream",
     "text": [
      "5000 5000\n"
     ]
    },
    {
     "name": "stderr",
     "output_type": "stream",
     "text": [
      "\n"
     ]
    }
   ],
   "source": [
    "dataList, queryList, objList = get_data_and_object_list(SHAPEWORLD4('../../data/shapeworld4/',\"val\"), 1, shuffle=False)\n",
    "print(len(dataList), len(queryList))\n",
    "\n",
    "inference, out = SLASHobj.forward_slot_attention_pipeline(slot_net=slot_net, data_batch= dataList[5])\n",
    "\n"
   ]
  },
  {
   "cell_type": "code",
   "execution_count": 5,
   "metadata": {},
   "outputs": [],
   "source": [
    "def interpret_inference(inference,print_query =True):\n",
    "\n",
    "    \n",
    "    inference_list = []\n",
    "    \n",
    "    \"\"\"\n",
    "    pc(color(1,X),[red, blue, green, gray, brown, magenta, cyan, yellow, black]) :- slot(X).\n",
    "    pc(shape(1,X),[circle, triangle, square, bg]) :- slot(X).\n",
    "    pc(shade(1,X),[bright, dark, bg]) :- slot(X).\n",
    "    pc(size(1,X),[small, big, bg]) :- slot(X).\"\"\"\n",
    "    \n",
    "    \n",
    "    for slot in inference:\n",
    "        shape = inference[slot]['shape']\n",
    "        color = inference[slot]['color']\n",
    "        shade = inference[slot]['shade']\n",
    "        size = inference[slot]['size']\n",
    "\n",
    "        sid = torch.argmax(shape)\n",
    "        cid = torch.argmax(color)\n",
    "        hid = torch.argmax(shade)\n",
    "        xid = torch.argmax(size)\n",
    "        \n",
    "        s=''\n",
    "        c=''\n",
    "        h=''\n",
    "        x=''\n",
    "        \n",
    "        #print(sid, cid)\n",
    "        if cid == 0:\n",
    "            c= 'red'\n",
    "        elif cid == 1:\n",
    "            c= 'blue'\n",
    "        elif cid == 2:\n",
    "            c= 'green'\n",
    "        elif cid == 3:\n",
    "            c= 'gray'\n",
    "        elif cid == 4:\n",
    "            c= 'brown'\n",
    "        elif cid == 5:\n",
    "            c= 'magenta'            \n",
    "        elif cid == 6:\n",
    "            c= 'cyan'            \n",
    "        elif cid == 7:\n",
    "            c= 'yellow'            \n",
    "        elif cid == 8:\n",
    "            c= 'black'\n",
    "            \n",
    "        if sid == 0:\n",
    "            s='circle'\n",
    "        elif sid == 1:\n",
    "            s='triangle'\n",
    "        elif sid == 2:\n",
    "            s='square'\n",
    "        elif sid == 3:\n",
    "            s='bg'    \n",
    "      \n",
    "                    \n",
    "        if hid == 0:\n",
    "            h='bright'\n",
    "        elif hid == 1:\n",
    "            h='dark'\n",
    "        elif hid == 2:\n",
    "            h='bg'\n",
    "             \n",
    "                    \n",
    "        if xid == 0:\n",
    "            x='small'\n",
    "        elif xid == 1:\n",
    "            x='big'\n",
    "        elif xid == 2:\n",
    "            x='bg'\n",
    "        \n",
    "        if print_query:\n",
    "            print(\"there is a {} {} {} {} in the image.\".format(x, h, c, s))\n",
    "        \n",
    "        #if c != 'black' and s != 'bg': \n",
    "        inference_list.append([c, s])\n",
    "    \n",
    "    return inference_list"
   ]
  },
  {
   "cell_type": "markdown",
   "metadata": {},
   "source": [
    "### Model tell us what we see in the image! "
   ]
  },
  {
   "cell_type": "code",
   "execution_count": 6,
   "metadata": {},
   "outputs": [
    {
     "data": {
      "image/png": "[encoded data removed]",
      "text/plain": [
       "<Figure size 432x288 with 1 Axes>"
      ]
     },
     "metadata": {
      "needs_background": "light"
     },
     "output_type": "display_data"
    },
    {
     "name": "stdout",
     "output_type": "stream",
     "text": [
      "trained with query string:\n",
      ":- not object(o1,red,circle,bright,big). :- not object(o2,magenta,circle,dark,big). :- not object(o3,black,bg, bg, bg). :- not object(o4,black,bg, bg, bg). \n",
      "The model says:\n",
      "there is a bg bg black bg in the image.\n",
      "there is a bg bg black bg in the image.\n",
      "there is a big dark magenta circle in the image.\n",
      "there is a big bright red circle in the image.\n",
      "\n",
      "with probabilities:\n",
      "   red,    blue,  green, gray,  brown,magenta,cyan, yellow, black, circle, triangle, square, bg\n",
      "s0 [0.000, 0.000, 0.000, 0.000, 0.000, 0.000, 0.000, 0.000, 1.000] [0.000, 0.000, 0.000, 1.000]\n",
      "s1 [0.000, 0.000, 0.000, 0.000, 0.000, 0.000, 0.000, 0.000, 1.000] [0.000, 0.000, 0.000, 1.000]\n",
      "s2 [0.003, 0.001, 0.000, 0.000, 0.000, 0.996, 0.000, 0.000, 0.000] [0.998, 0.001, 0.000, 0.000]\n",
      "s3 [0.997, 0.000, 0.000, 0.000, 0.000, 0.002, 0.000, 0.000, 0.000] [1.000, 0.000, 0.000, 0.000]\n",
      "   bright, dark,  bg,     small, big,   bg\n",
      "s0 [0.000, 0.000, 1.000] [0.000, 0.000, 1.000]\n",
      "s1 [0.000, 0.000, 1.000] [0.000, 0.000, 1.000]\n",
      "s2 [0.006, 0.994, 0.000] [0.000, 1.000, 0.000]\n",
      "s3 [1.000, 0.000, 0.000] [0.000, 1.000, 0.000]\n",
      "\n",
      " Our GT is:\n",
      " :- not object(o1,red,circle,bright,big). :- not object(o2,magenta,circle,dark,big). :- not object(o3,black,bg, bg, bg). :- not object(o4,black,bg, bg, bg). \n"
     ]
    }
   ],
   "source": [
    "idx = int(np.random.rand()* len(dataList))\n",
    "\n",
    "idx = 4156\n",
    "\n",
    "\n",
    "#plot the image\n",
    "img = np.einsum(\"abc->bca\",dataList[idx]['im'].cpu().numpy().squeeze())\n",
    "\n",
    "#with plt.style.context('dark_background'):\n",
    "plt.imshow((img+1)/2)\n",
    "\n",
    "\n",
    "plt.show()\n",
    "\n",
    "\n",
    "print(\"trained with query string:\")\n",
    "print(queryList[idx])\n",
    "\n",
    "\n",
    "#get the predictions of what is in the image\n",
    "inference, out = SLASHobj.forward_slot_attention_pipeline(slot_net=slot_net, data_batch= dataList[idx])\n",
    "\n",
    "print(\"The model says:\")\n",
    "interpret_inference(inference)\n",
    "\n",
    "\n",
    "print(\"\\nwith probabilities:\")\n",
    "\n",
    "print(\"   red,    blue,  green, gray,  brown,magenta,cyan, yellow, black, circle, triangle, square, bg\")\n",
    "\n",
    "for slot in inference.keys():\n",
    "    \n",
    "    color = (\"[\"+', '.join(['%.3f']*9)+\"]\") % tuple(inference[slot]['color'].cpu().numpy()[0])\n",
    "    shape = (\"[\"+', '.join(['%.3f']*4)+\"]\") % tuple(inference[slot]['shape'].cpu().numpy()[0])\n",
    "    print(slot,color,shape)\n",
    "    \n",
    "print(\"   bright, dark,  bg,     small, big,   bg\")\n",
    "\n",
    "for slot in inference.keys():\n",
    "    shade = (\"[\"+', '.join(['%.3f']*3)+\"]\") % tuple(inference[slot]['shade'].cpu().numpy()[0])\n",
    "    size = (\"[\"+', '.join(['%.3f']*3)+\"]\") % tuple(inference[slot]['size'].cpu().numpy()[0])\n",
    "    print(slot,shade,size)\n",
    "    \n",
    " \n",
    "print(\"\\n Our GT is:\\n\",queryList[idx])\n",
    "\n"
   ]
  },
  {
   "cell_type": "markdown",
   "metadata": {},
   "source": [
    "### Average precision values"
   ]
  },
  {
   "cell_type": "code",
   "execution_count": 7,
   "metadata": {},
   "outputs": [
    {
     "name": "stdout",
     "output_type": "stream",
     "text": [
      "(5000, 4, 20) (5000, 4, 20)\n"
     ]
    },
    {
     "name": "stderr",
     "output_type": "stream",
     "text": [
      "/workspaces/slash/src/experiments/slash_attention/shapeworld4/../ap_utils.py:308: RuntimeWarning: invalid value encountered in true_divide\n",
      "  precision_array = np.divide(accumulated_tp, (accumulated_fp + accumulated_tp))\n"
     ]
    },
    {
     "name": "stdout",
     "output_type": "stream",
     "text": [
      "avg precision  0.9481931144949272 tp 11999.0 fp 635.0 tn 7366.0 correctly classified 4467\n",
      "avg precision color 0.966643391725615 tp 12228.0 fp 407.0 tn 7365.0 correctly classified 4613\n",
      "avg precision shape 0.9863722443968648 tp 12466.0 fp 168.0 tn 7366.0 correctly classified 4833\n",
      "avg precision shade 0.9796051482559278 tp 12383.0 fp 251.0 tn 7366.0 correctly classified 4749\n",
      "avg precision size 0.9933776274758905 tp 12552.0 fp 82.0 tn 7366.0 correctly classified 4920\n"
     ]
    }
   ],
   "source": [
    "dataListArray = np.array(dataList)\n",
    "inference, _ = SLASHobj.forward_slot_attention_pipeline(slot_net=slot_net, data_batch= dataListArray[:])\n",
    "\n",
    "\n",
    "target = np.array(objList)\n",
    "\n",
    "#compute the average precision, tp, fp, tn for color+shape, color, shape\n",
    "pred = ap_utils.inference_map_to_array(inference).cpu().numpy()\n",
    "\n",
    "\n",
    "\n",
    "print(pred.shape,target.shape)\n",
    "\n",
    "ap, true_positives, false_positives, true_negatives, correctly_classified = ap_utils.average_precision(pred, target,-1, \"SHAPEWORLD4\")\n",
    "print(\"avg precision \",ap, \"tp\", true_positives, \"fp\", false_positives, \"tn\", true_negatives, \"correctly classified\",correctly_classified)\n",
    "\n",
    "\n",
    "#color\n",
    "pred_c = ap_utils.inference_map_to_array(inference, only_color=True).cpu().numpy()\n",
    "ap_c, true_positives_c, false_positives_c, true_negatives_c, correctly_classified_c  = ap_utils.average_precision(pred, target,-1, \"SHAPEWORLD4\", only_color = True)\n",
    "print(\"avg precision color\",ap_c, \"tp\", true_positives_c, \"fp\", false_positives_c, \"tn\", true_negatives_c, \"correctly classified\",correctly_classified_c)\n",
    "\n",
    "#shape              \n",
    "pred_s = ap_utils.inference_map_to_array(inference, only_shape=True).cpu().numpy()\n",
    "ap_s, true_positives_s, false_positives_s, true_negatives_s, correctly_classified_s= ap_utils.average_precision(pred_s, target,-1, \"SHAPEWORLD4\", only_shape = True)\n",
    "print(\"avg precision shape\",ap_s, \"tp\", true_positives_s, \"fp\", false_positives_s, \"tn\", true_negatives_s, \"correctly classified\",correctly_classified_s)\n",
    "\n",
    "#shade              \n",
    "pred_h = ap_utils.inference_map_to_array(inference, only_shade=True).cpu().numpy()\n",
    "ap_h, true_positives_h, false_positives_h, true_negatives_h, correctly_classified_h= ap_utils.average_precision(pred_h, target,-1, \"SHAPEWORLD4\", only_shade = True)\n",
    "print(\"avg precision shade\",ap_h, \"tp\", true_positives_h, \"fp\", false_positives_h, \"tn\", true_negatives_h, \"correctly classified\",correctly_classified_h)\n",
    "\n",
    "#shape              \n",
    "pred_x = ap_utils.inference_map_to_array(inference, only_size=True).cpu().numpy()\n",
    "ap_x, true_positives_x, false_positives_x, true_negatives_x, correctly_classified_x= ap_utils.average_precision(pred_x, target,-1, \"SHAPEWORLD4\", only_size = True)\n",
    "print(\"avg precision size\",ap_x, \"tp\", true_positives_x, \"fp\", false_positives_x, \"tn\", true_negatives_x, \"correctly classified\",correctly_classified_x)"
   ]
  },
  {
   "cell_type": "markdown",
   "metadata": {},
   "source": [
    "## Log Likelihoods\n",
    "circle 0, triangle 1, square 2\n",
    "red 0, blue 1, green 2\n",
    "            "
   ]
  },
  {
   "cell_type": "code",
   "execution_count": 8,
   "metadata": {},
   "outputs": [
    {
     "data": {
      "image/png": "[encoded data removed]",
      "text/plain": [
       "<Figure size 720x360 with 1 Axes>"
      ]
     },
     "metadata": {
      "needs_background": "light"
     },
     "output_type": "display_data"
    },
    {
     "data": {
      "image/png": "[encoded data removed]",
      "text/plain": [
       "<Figure size 720x360 with 1 Axes>"
      ]
     },
     "metadata": {
      "needs_background": "light"
     },
     "output_type": "display_data"
    }
   ],
   "source": [
    "test_ll_list = models['test_ll_list']\n",
    "\n",
    "temp= np.zeros((len(test_ll_list), 3))\n",
    "\n",
    "\n",
    "for i, ll in enumerate(test_ll_list):\n",
    "    temp[i,0] = ll[1]\n",
    "    temp[i,1] = ll[0][0]\n",
    "    temp[i,2] = ll[0][1]\n",
    "\n",
    "x = temp.shape[0]\n",
    "x= 250\n",
    "sign = -1\n",
    "\n",
    "    \n",
    "fig = plt.figure(figsize=(10,5))    \n",
    "plt.plot(temp[:x,0], sign*temp[:x,1], label=\"c\")\n",
    "plt.xlabel(\"epochs\")\n",
    "plt.ylabel(\"color log likelihoods\")\n",
    "plt.show()\n",
    "\n",
    "fig = plt.figure(figsize=(10,5))    \n",
    "plt.plot(temp[:x,0], sign*temp[:x,2])\n",
    "plt.xlabel(\"epochs\")\n",
    "plt.ylabel(\"shape log likelihoods\")\n",
    "plt.show()\n",
    "\n",
    "plt.show()\n",
    "\n"
   ]
  },
  {
   "cell_type": "markdown",
   "metadata": {},
   "source": [
    "# Average Precision plots"
   ]
  },
  {
   "cell_type": "code",
   "execution_count": 15,
   "metadata": {},
   "outputs": [
    {
     "data": {
      "image/png": "[encoded data removed]",
      "text/plain": [
       "<Figure size 576x360 with 1 Axes>"
      ]
     },
     "metadata": {
      "needs_background": "light"
     },
     "output_type": "display_data"
    },
    {
     "name": "stdout",
     "output_type": "stream",
     "text": [
      "0.9702488049517893\n",
      "[0.96710233 0.96620244 0.96404978 0.96294551 0.96643043 0.96444771\n",
      " 0.9534334  0.96215071 0.96628904 0.96410573]\n"
     ]
    }
   ],
   "source": [
    "test_ap_list = models['test_ap_list']\n",
    "test_ap_list = np.array(test_ap_list)\n",
    "\n",
    "\n",
    "x= 1100\n",
    "\n",
    "\n",
    "fig, ax = plt.subplots(1, figsize=(8,5))\n",
    "\n",
    "\n",
    "ax.set_xlabel(\"epochs\")\n",
    "ax.set_ylabel(\"average precision\")\n",
    "\n",
    "#ap, ap_c, ap_s, ap_h, ap_x, e\n",
    "\n",
    "ax.plot(test_ap_list[:x,5], test_ap_list[:x,0], label=\"Classification\", linestyle='solid')\n",
    "ax.plot(test_ap_list[:x,5], test_ap_list[:x,1], label=\"Colour\", linestyle='dotted')\n",
    "ax.plot(test_ap_list[:x,5], test_ap_list[:x,2], label=\"Shape\", linestyle='dashed')\n",
    "ax.plot(test_ap_list[:x,5], test_ap_list[:x,3], label=\"Shade\", linestyle='dashdot')\n",
    "ax.plot(test_ap_list[:x,5], test_ap_list[:x,4], label=\"Size\", linestyle=(0,(3,1,1,3)))\n",
    "\n",
    "\n",
    "directory = os.path.dirname(\"plots/\")\n",
    "try:\n",
    "    os.stat(directory)\n",
    "except:\n",
    "    os.mkdir(directory)\n",
    "fig.legend(loc='lower right', bbox_to_anchor=(0.5, 0.13, 0.4, 0.2))\n",
    "fig.savefig('plots/ap_shapeworld4.png', format=\"png\")\n",
    "\n",
    "plt.show()\n",
    "\n",
    "\n",
    "print(np.max(test_ap_list[:x,0]))\n",
    "print(test_ap_list[x-10:x,0])"
   ]
  },
  {
   "cell_type": "markdown",
   "id": "75b13631",
   "metadata": {},
   "source": [
    "# Loss"
   ]
  },
  {
   "cell_type": "code",
   "execution_count": 10,
   "id": "4d617554",
   "metadata": {},
   "outputs": [
    {
     "name": "stdout",
     "output_type": "stream",
     "text": [
      "[ 0.52420235  0.5109423   0.48606977 ...  3.6685512  -0.13950188\n",
      " -0.00413099]\n"
     ]
    },
    {
     "data": {
      "image/png": "[encoded data removed]",
      "text/plain": [
       "<Figure size 576x360 with 1 Axes>"
      ]
     },
     "metadata": {
      "needs_background": "light"
     },
     "output_type": "display_data"
    }
   ],
   "source": [
    "fig, ax = plt.subplots(1, figsize=(8,5))\n",
    "loss_list = np.array(models['loss_list'])\n",
    "ax.plot(loss_list)\n",
    "print(loss_list)\n",
    "ax.set_xlabel(\"epochs\")\n",
    "ax.set_ylabel(\"loss\")\n",
    "fig.savefig('plots/loss_shapeworld4.svg', format=\"svg\")"
   ]
  },
  {
   "cell_type": "markdown",
   "metadata": {},
   "source": [
    "### lr rates for slot attention module"
   ]
  },
  {
   "cell_type": "code",
   "execution_count": 11,
   "metadata": {},
   "outputs": [
    {
     "ename": "IndexError",
     "evalue": "too many indices for array: array is 1-dimensional, but 2 were indexed",
     "output_type": "error",
     "traceback": [
      "\u001b[0;31m---------------------------------------------------------------------------\u001b[0m",
      "\u001b[0;31mIndexError\u001b[0m                                Traceback (most recent call last)",
      "\u001b[0;32m<ipython-input-11-89ec0c101a83>\u001b[0m in \u001b[0;36m<module>\u001b[0;34m\u001b[0m\n\u001b[1;32m     12\u001b[0m \u001b[0;34m\u001b[0m\u001b[0m\n\u001b[1;32m     13\u001b[0m \u001b[0;34m\u001b[0m\u001b[0m\n\u001b[0;32m---> 14\u001b[0;31m \u001b[0max1\u001b[0m\u001b[0;34m.\u001b[0m\u001b[0mplot\u001b[0m\u001b[0;34m(\u001b[0m\u001b[0mepochs\u001b[0m\u001b[0;34m,\u001b[0m \u001b[0mlr\u001b[0m\u001b[0;34m[\u001b[0m\u001b[0;34m:\u001b[0m\u001b[0;34m,\u001b[0m\u001b[0;36m1\u001b[0m\u001b[0;34m]\u001b[0m\u001b[0;34m)\u001b[0m\u001b[0;34m\u001b[0m\u001b[0;34m\u001b[0m\u001b[0m\n\u001b[0m\u001b[1;32m     15\u001b[0m \u001b[0;34m\u001b[0m\u001b[0m\n\u001b[1;32m     16\u001b[0m \u001b[0mfig1\u001b[0m\u001b[0;34m.\u001b[0m\u001b[0msavefig\u001b[0m\u001b[0;34m(\u001b[0m\u001b[0;34m'plots/learning_rate.svg'\u001b[0m\u001b[0;34m,\u001b[0m \u001b[0mformat\u001b[0m\u001b[0;34m=\u001b[0m\u001b[0;34m\"svg\"\u001b[0m\u001b[0;34m)\u001b[0m\u001b[0;34m\u001b[0m\u001b[0;34m\u001b[0m\u001b[0m\n",
      "\u001b[0;31mIndexError\u001b[0m: too many indices for array: array is 1-dimensional, but 2 were indexed"
     ]
    },
    {
     "data": {
      "image/png": "[encoded data removed]",
      "text/plain": [
       "<Figure size 432x288 with 1 Axes>"
      ]
     },
     "metadata": {
      "needs_background": "light"
     },
     "output_type": "display_data"
    }
   ],
   "source": [
    "lr_list = np.array( models['lr_list'])\n",
    "epochs = lr_list[:,1]\n",
    "lr=np.stack(lr_list[:,0])\n",
    "\n",
    "fig1, ax1 = plt.subplots()\n",
    "\n",
    "\n",
    "#fig = plt.figure()  \n",
    "ax1.set_title(\"learning rate slot attention module\")\n",
    "ax1.set_ylabel(\"learning rate\")\n",
    "ax1.set_xlabel(\"epochs\")\n",
    "\n",
    "\n",
    "ax1.plot(epochs, lr[:,1])\n",
    "\n",
    "fig1.savefig('plots/learning_rate.svg', format=\"svg\")\n",
    "plt.show()\n"
   ]
  },
  {
   "cell_type": "markdown",
   "metadata": {},
   "source": [
    "# OLD \n",
    "\n",
    "\n",
    "# Model comparison\n",
    "\n",
    "### Average Precision\n"
   ]
  },
  {
   "cell_type": "code",
   "execution_count": null,
   "metadata": {},
   "outputs": [
    {
     "ename": "FileNotFoundError",
     "evalue": "[Errno 2] No such file or directory: 'data/most_prob_pd_endtoend/slash_slot_models.pt'",
     "output_type": "error",
     "traceback": [
      "\u001b[0;31m---------------------------------------------------------------------------\u001b[0m",
      "\u001b[0;31mFileNotFoundError\u001b[0m                         Traceback (most recent call last)",
      "\u001b[0;32m<ipython-input-12-f19bba0eea00>\u001b[0m in \u001b[0;36m<module>\u001b[0;34m\u001b[0m\n\u001b[1;32m     21\u001b[0m \u001b[0;32mfor\u001b[0m \u001b[0mmp\u001b[0m \u001b[0;32min\u001b[0m \u001b[0mmodel_paths\u001b[0m\u001b[0;34m:\u001b[0m\u001b[0;34m\u001b[0m\u001b[0;34m\u001b[0m\u001b[0m\n\u001b[1;32m     22\u001b[0m     \u001b[0mmodel_path\u001b[0m \u001b[0;34m=\u001b[0m \u001b[0;34m\"data/\"\u001b[0m\u001b[0;34m+\u001b[0m\u001b[0mmp\u001b[0m\u001b[0;34m+\u001b[0m\u001b[0;34m\"/slash_slot_models.pt\"\u001b[0m\u001b[0;34m\u001b[0m\u001b[0;34m\u001b[0m\u001b[0m\n\u001b[0;32m---> 23\u001b[0;31m     \u001b[0mmodels\u001b[0m \u001b[0;34m=\u001b[0m \u001b[0mtorch\u001b[0m\u001b[0;34m.\u001b[0m\u001b[0mload\u001b[0m\u001b[0;34m(\u001b[0m\u001b[0mmodel_path\u001b[0m\u001b[0;34m)\u001b[0m\u001b[0;34m\u001b[0m\u001b[0;34m\u001b[0m\u001b[0m\n\u001b[0m\u001b[1;32m     24\u001b[0m \u001b[0;34m\u001b[0m\u001b[0m\n\u001b[1;32m     25\u001b[0m     \u001b[0mtest_ap_list\u001b[0m \u001b[0;34m=\u001b[0m \u001b[0mmodels\u001b[0m\u001b[0;34m[\u001b[0m\u001b[0;34m'test_ap_list'\u001b[0m\u001b[0;34m]\u001b[0m\u001b[0;34m\u001b[0m\u001b[0;34m\u001b[0m\u001b[0m\n",
      "\u001b[0;32m~/.local/lib/python3.6/site-packages/torch/serialization.py\u001b[0m in \u001b[0;36mload\u001b[0;34m(f, map_location, pickle_module, **pickle_load_args)\u001b[0m\n\u001b[1;32m    579\u001b[0m         \u001b[0mpickle_load_args\u001b[0m\u001b[0;34m[\u001b[0m\u001b[0;34m'encoding'\u001b[0m\u001b[0;34m]\u001b[0m \u001b[0;34m=\u001b[0m \u001b[0;34m'utf-8'\u001b[0m\u001b[0;34m\u001b[0m\u001b[0;34m\u001b[0m\u001b[0m\n\u001b[1;32m    580\u001b[0m \u001b[0;34m\u001b[0m\u001b[0m\n\u001b[0;32m--> 581\u001b[0;31m     \u001b[0;32mwith\u001b[0m \u001b[0m_open_file_like\u001b[0m\u001b[0;34m(\u001b[0m\u001b[0mf\u001b[0m\u001b[0;34m,\u001b[0m \u001b[0;34m'rb'\u001b[0m\u001b[0;34m)\u001b[0m \u001b[0;32mas\u001b[0m \u001b[0mopened_file\u001b[0m\u001b[0;34m:\u001b[0m\u001b[0;34m\u001b[0m\u001b[0;34m\u001b[0m\u001b[0m\n\u001b[0m\u001b[1;32m    582\u001b[0m         \u001b[0;32mif\u001b[0m \u001b[0m_is_zipfile\u001b[0m\u001b[0;34m(\u001b[0m\u001b[0mopened_file\u001b[0m\u001b[0;34m)\u001b[0m\u001b[0;34m:\u001b[0m\u001b[0;34m\u001b[0m\u001b[0;34m\u001b[0m\u001b[0m\n\u001b[1;32m    583\u001b[0m             \u001b[0;31m# The zipfile reader is going to advance the current file position.\u001b[0m\u001b[0;34m\u001b[0m\u001b[0;34m\u001b[0m\u001b[0;34m\u001b[0m\u001b[0m\n",
      "\u001b[0;32m~/.local/lib/python3.6/site-packages/torch/serialization.py\u001b[0m in \u001b[0;36m_open_file_like\u001b[0;34m(name_or_buffer, mode)\u001b[0m\n\u001b[1;32m    228\u001b[0m \u001b[0;32mdef\u001b[0m \u001b[0m_open_file_like\u001b[0m\u001b[0;34m(\u001b[0m\u001b[0mname_or_buffer\u001b[0m\u001b[0;34m,\u001b[0m \u001b[0mmode\u001b[0m\u001b[0;34m)\u001b[0m\u001b[0;34m:\u001b[0m\u001b[0;34m\u001b[0m\u001b[0;34m\u001b[0m\u001b[0m\n\u001b[1;32m    229\u001b[0m     \u001b[0;32mif\u001b[0m \u001b[0m_is_path\u001b[0m\u001b[0;34m(\u001b[0m\u001b[0mname_or_buffer\u001b[0m\u001b[0;34m)\u001b[0m\u001b[0;34m:\u001b[0m\u001b[0;34m\u001b[0m\u001b[0;34m\u001b[0m\u001b[0m\n\u001b[0;32m--> 230\u001b[0;31m         \u001b[0;32mreturn\u001b[0m \u001b[0m_open_file\u001b[0m\u001b[0;34m(\u001b[0m\u001b[0mname_or_buffer\u001b[0m\u001b[0;34m,\u001b[0m \u001b[0mmode\u001b[0m\u001b[0;34m)\u001b[0m\u001b[0;34m\u001b[0m\u001b[0;34m\u001b[0m\u001b[0m\n\u001b[0m\u001b[1;32m    231\u001b[0m     \u001b[0;32melse\u001b[0m\u001b[0;34m:\u001b[0m\u001b[0;34m\u001b[0m\u001b[0;34m\u001b[0m\u001b[0m\n\u001b[1;32m    232\u001b[0m         \u001b[0;32mif\u001b[0m \u001b[0;34m'w'\u001b[0m \u001b[0;32min\u001b[0m \u001b[0mmode\u001b[0m\u001b[0;34m:\u001b[0m\u001b[0;34m\u001b[0m\u001b[0;34m\u001b[0m\u001b[0m\n",
      "\u001b[0;32m~/.local/lib/python3.6/site-packages/torch/serialization.py\u001b[0m in \u001b[0;36m__init__\u001b[0;34m(self, name, mode)\u001b[0m\n\u001b[1;32m    209\u001b[0m \u001b[0;32mclass\u001b[0m \u001b[0m_open_file\u001b[0m\u001b[0;34m(\u001b[0m\u001b[0m_opener\u001b[0m\u001b[0;34m)\u001b[0m\u001b[0;34m:\u001b[0m\u001b[0;34m\u001b[0m\u001b[0;34m\u001b[0m\u001b[0m\n\u001b[1;32m    210\u001b[0m     \u001b[0;32mdef\u001b[0m \u001b[0m__init__\u001b[0m\u001b[0;34m(\u001b[0m\u001b[0mself\u001b[0m\u001b[0;34m,\u001b[0m \u001b[0mname\u001b[0m\u001b[0;34m,\u001b[0m \u001b[0mmode\u001b[0m\u001b[0;34m)\u001b[0m\u001b[0;34m:\u001b[0m\u001b[0;34m\u001b[0m\u001b[0;34m\u001b[0m\u001b[0m\n\u001b[0;32m--> 211\u001b[0;31m         \u001b[0msuper\u001b[0m\u001b[0;34m(\u001b[0m\u001b[0m_open_file\u001b[0m\u001b[0;34m,\u001b[0m \u001b[0mself\u001b[0m\u001b[0;34m)\u001b[0m\u001b[0;34m.\u001b[0m\u001b[0m__init__\u001b[0m\u001b[0;34m(\u001b[0m\u001b[0mopen\u001b[0m\u001b[0;34m(\u001b[0m\u001b[0mname\u001b[0m\u001b[0;34m,\u001b[0m \u001b[0mmode\u001b[0m\u001b[0;34m)\u001b[0m\u001b[0;34m)\u001b[0m\u001b[0;34m\u001b[0m\u001b[0;34m\u001b[0m\u001b[0m\n\u001b[0m\u001b[1;32m    212\u001b[0m \u001b[0;34m\u001b[0m\u001b[0m\n\u001b[1;32m    213\u001b[0m     \u001b[0;32mdef\u001b[0m \u001b[0m__exit__\u001b[0m\u001b[0;34m(\u001b[0m\u001b[0mself\u001b[0m\u001b[0;34m,\u001b[0m \u001b[0;34m*\u001b[0m\u001b[0margs\u001b[0m\u001b[0;34m)\u001b[0m\u001b[0;34m:\u001b[0m\u001b[0;34m\u001b[0m\u001b[0;34m\u001b[0m\u001b[0m\n",
      "\u001b[0;31mFileNotFoundError\u001b[0m: [Errno 2] No such file or directory: 'data/most_prob_pd_endtoend/slash_slot_models.pt'"
     ]
    },
    {
     "data": {
      "image/png": "[encoded data removed]",
      "text/plain": [
       "<Figure size 720x432 with 1 Axes>"
      ]
     },
     "metadata": {
      "needs_background": "light"
     },
     "output_type": "display_data"
    },
    {
     "data": {
      "image/png": "[encoded data removed]",
      "text/plain": [
       "<Figure size 720x432 with 1 Axes>"
      ]
     },
     "metadata": {
      "needs_background": "light"
     },
     "output_type": "display_data"
    },
    {
     "data": {
      "image/png": "[encoded data removed]",
      "text/plain": [
       "<Figure size 720x432 with 1 Axes>"
      ]
     },
     "metadata": {
      "needs_background": "light"
     },
     "output_type": "display_data"
    }
   ],
   "source": [
    "model_paths = [\"most_prob_pd_endtoend\", \"most_prob_bt_endtoend\", \"most_prob_pd_pretrained\" , \"most_prob_bt_pretrained\"]\n",
    "\n",
    "\n",
    "\n",
    "fig1, ax1 = plt.subplots(figsize=(10,6))\n",
    "fig2, ax2 = plt.subplots(figsize=(10,6))\n",
    "fig3, ax3 = plt.subplots(figsize=(10,6))\n",
    "\n",
    "#fig = plt.figure()  \n",
    "ax1.set_title(\"Test Average Precision (matching criterion=shape+color)\")\n",
    "ax1.set_ylabel(\"average precision\")\n",
    "ax1.set_xlabel(\"epochs\")\n",
    "ax2.set_title(\"Test Average Precision (matching criterion=color)\")\n",
    "ax2.set_ylabel(\"average precision\")\n",
    "ax2.set_xlabel(\"epochs\")\n",
    "ax3.set_title(\"Test Average Precision (matching criterion=shape)\")\n",
    "ax3.set_ylabel(\"average precision\")\n",
    "ax3.set_xlabel(\"epochs\")\n",
    "\n",
    "\n",
    "for mp in model_paths:\n",
    "    model_path = \"data/\"+mp+\"/slash_slot_models.pt\" \n",
    "    models = torch.load(model_path)\n",
    "\n",
    "    test_ap_list = models['test_ap_list']\n",
    "    \n",
    "    print(models['time'][0], mp)\n",
    "    test_ap_list= np.array(test_ap_list)\n",
    "    \n",
    "    style=\"-\"\n",
    "    if models['exp_dict']['structure'] == 'poon-domingos':\n",
    "        style=\"--\"\n",
    "    #print(test_ap_list.shape)\n",
    "    x= 350\n",
    "\n",
    "\n",
    "    ax1.plot(test_ap_list[:x,3], test_ap_list[:x,0],style, label=mp)    \n",
    "    ax2.plot(test_ap_list[:x,3], test_ap_list[:x,1],style, label=mp)    \n",
    "    ax3.plot(test_ap_list[:x,3], test_ap_list[:x,2],style, label=mp)    \n",
    "\n",
    "    ax1.legend()\n",
    "    ax2.legend()\n",
    "    ax3.legend()\n",
    "\n",
    "    fig1.savefig('plots/ap.svg', format=\"svg\")\n",
    "    fig2.savefig('plots/ap_color.svg', format=\"svg\")\n",
    "    fig3.savefig('plots/ap_shape.svg', format=\"svg\")\n",
    "\n",
    "    \n",
    "plt.show()"
   ]
  },
  {
   "cell_type": "code",
   "execution_count": null,
   "metadata": {},
   "outputs": [],
   "source": [
    "### log likelihoods"
   ]
  },
  {
   "cell_type": "code",
   "execution_count": null,
   "metadata": {},
   "outputs": [],
   "source": [
    "model_paths = [\"most_prob_pd_endtoend\", \"most_prob_bt_endtoend\", \"most_prob_pd_pretrained\" , \"most_prob_bt_pretrained\"]\n",
    "\n",
    "\n",
    "\n",
    "fig1, ax1 = plt.subplots(figsize=(10,6))\n",
    "fig2, ax2 = plt.subplots(figsize=(10,6))\n",
    "fig3, ax3 = plt.subplots(figsize=(10,6))\n",
    "\n",
    "#fig = plt.figure()  \n",
    "ax1.set_title(\"Test Average Precision (matching criterion=shape+color)\")\n",
    "ax1.set_ylabel(\"average precision\")\n",
    "ax1.set_xlabel(\"epochs\")\n",
    "ax2.set_title(\"Test Average Precision (matching criterion=color)\")\n",
    "ax2.set_ylabel(\"average precision\")\n",
    "ax2.set_xlabel(\"epochs\")\n",
    "ax3.set_title(\"Test Average Precision (matching criterion=shape)\")\n",
    "ax3.set_ylabel(\"average precision\")\n",
    "ax3.set_xlabel(\"epochs\")\n",
    "\n",
    "\n",
    "for mp in model_paths:\n",
    "    model_path = \"data/\"+mp+\"/slash_slot_models.pt\" \n",
    "    models = torch.load(model_path)\n",
    "\n",
    "    test_ap_list = models['test_ap_list']\n",
    "    test_ap_list= np.array(test_ap_list)\n",
    "    \n",
    "    style=\"-\"\n",
    "    if models['exp_dict']['structure'] == 'poon-domingos':\n",
    "        style=\"--\"\n",
    "    print(test_ap_list.shape)\n",
    "    x= 350\n",
    "\n",
    "\n",
    "    ax1.plot(test_ap_list[:x,3], test_ap_list[:x,0],style, label=mp)    \n",
    "    ax2.plot(test_ap_list[:x,3], test_ap_list[:x,1],style, label=mp)    \n",
    "    ax3.plot(test_ap_list[:x,3], test_ap_list[:x,2],style, label=mp)    \n",
    "\n",
    "    ax1.legend()\n",
    "    ax2.legend()\n",
    "    ax3.legend()\n",
    "plt.show()"
   ]
  },
  {
   "cell_type": "markdown",
   "metadata": {},
   "source": [
    "# true positives"
   ]
  },
  {
   "cell_type": "code",
   "execution_count": null,
   "metadata": {},
   "outputs": [],
   "source": [
    "\"\"\"\n",
    "test_metric_list.append([true_positives, false_positives, true_negatives,correctly_classified,\n",
    "                         true_positives_c, false_positives_c, true_negatives_c, correctly_classified_c,\n",
    "                         true_positives_s, false_positives_s, true_negatives_s, correctly_classified_s])\n",
    "\"\"\"\n",
    "\n",
    "model_path = \"data/most_prob_pd_endtoend/slash_slot_models.pt\" \n",
    "models = torch.load(model_path)\n",
    "\n",
    "print(models.keys())\n",
    "\n",
    "\n",
    "test_metric_list = np.array(models['test_metric_list'])\n",
    "\n",
    "correctly_classified =  test_metric_list[:350,3]\n",
    "correctly_classified_color =  test_metric_list[:350,7]\n",
    "correctly_classified_shape =  test_metric_list[:350,11]\n",
    "\n",
    "\n",
    "\n",
    "fig1, ax1 = plt.subplots(figsize=(10,6))\n",
    "ax1.set_title(\"Number of correctly classified samples on test set (5000 samples)\")\n",
    "ax1.set_ylabel(\"# correctly classified samples\")\n",
    "ax1.set_xlabel(\"epochs\")\n",
    "\n",
    "ax1.plot(correctly_classified,style, label=\"color+shape\")\n",
    "ax1.plot(np.argmax(correctly_classified), np.max(correctly_classified), 'r*')\n",
    "\n",
    "ax1.plot(correctly_classified_color,style, label=\"color\")\n",
    "ax1.plot(np.argmax(correctly_classified_color), np.max(correctly_classified_color), 'r*')\n",
    "\n",
    "ax1.plot(correctly_classified_shape, style, label=\"shape\")\n",
    "ax1.plot(np.argmax(correctly_classified_shape), np.max(correctly_classified_shape), 'r*')\n",
    "\n",
    "\n",
    "ax1.legend()\n",
    "\n",
    "\n",
    "fig1.savefig('plots/correctly_classified.svg', format=\"svg\")\n",
    "\n",
    "\n",
    "print(max_value, max_index)\n",
    "plt.plot()"
   ]
  },
  {
   "cell_type": "code",
   "execution_count": null,
   "metadata": {},
   "outputs": [],
   "source": [
    "\n",
    "    "
   ]
  }
 ],
 "metadata": {
  "kernelspec": {
   "display_name": "Python 3",
   "language": "python",
   "name": "python3"
  },
  "language_info": {
   "codemirror_mode": {
    "name": "ipython",
    "version": 3
   },
   "file_extension": ".py",
   "mimetype": "text/x-python",
   "name": "python",
   "nbconvert_exporter": "python",
   "pygments_lexer": "ipython3",
   "version": "3.8.10"
  }
 },
 "nbformat": 4,
 "nbformat_minor": 5
}
