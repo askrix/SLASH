{
 "cells": [
  {
   "cell_type": "markdown",
   "id": "91ebb250",
   "metadata": {},
   "source": [
    "# SLASH Slot Attention Shapeworld4 experiment test notebook"
   ]
  },
  {
   "cell_type": "code",
   "execution_count": 1,
   "id": "1c477a5b",
   "metadata": {},
   "outputs": [
    {
     "name": "stderr",
     "output_type": "stream",
     "text": [
      "Matplotlib is building the font cache; this may take a moment.\n"
     ]
    }
   ],
   "source": [
    "import time\n",
    "import sys\n",
    "sys.path.append('../')\n",
    "sys.path.append('../../../')\n",
    "sys.path.append('../../../SLASH/')\n",
    "sys.path.append('../../../EinsumNetworks/src/')\n",
    "\n",
    "\n",
    "#torch, numpy, ...\n",
    "import torch\n",
    "from torch.utils.tensorboard import SummaryWriter\n",
    "\n",
    "import numpy as np\n",
    "import importlib\n",
    "import matplotlib.pyplot as plt\n",
    "\n",
    "#plt.style.use([\"science\"])  # Need SciencePlots pip package\n",
    "\n",
    "import matplotlib\n",
    "matplotlib.rcParams.update(\n",
    "    {\n",
    "        \"font.family\": \"serif\",\n",
    "        \"text.usetex\": False,\n",
    "    }\n",
    ")\n",
    "\n",
    "\n",
    "import utils\n",
    "import ap_utils\n",
    "import os\n",
    "\n",
    "from slash import SLASH\n",
    "from dataGen import get_loader, get_data_and_object_list, SHAPEWORLD4\n",
    "from tqdm.notebook import tqdm\n",
    "\n",
    "from einsum_wrapper import EiNet\n",
    "from slot_attention_module import SlotAttention_model, NPP_SlotAttention_classifier\n",
    "\n"
   ]
  },
  {
   "cell_type": "markdown",
   "id": "c4cf8929",
   "metadata": {},
   "source": [
    "A detection is considered a **true positive** if the discrete predicted properties (obtained with an argmax) exactly match the ground truth. \n",
    "- This excludes predicting the correct background object\n",
    "- If we predict two blue spheres but only have one blue sphere as our ground truth we get one true positve and one false positve\n",
    "\n",
    "A detection is considered a **false positive** if the discrete predicted properties (obtained with an argmax) do not exactly match the ground truth.\n",
    "- If we predict an object with either shape background or color black this is considered a false positive.\n",
    "\n",
    "A detection is considered a **true negative** if the background is predicted correctly.\n",
    "- We have one background prediction for each sample\n",
    "- If we predict two background objects we would get one true negative and one false negative\n",
    "\n",
    "\n"
   ]
  },
  {
   "cell_type": "code",
   "execution_count": null,
   "id": "2fd3f479",
   "metadata": {},
   "outputs": [],
   "source": []
  },
  {
   "cell_type": "code",
   "execution_count": 4,
   "id": "606335b7",
   "metadata": {},
   "outputs": [
    {
     "name": "stdout",
     "output_type": "stream",
     "text": [
      "{'structure': 'poon-domingos', 'bs': 512, 'epochs': 1100, 'lr_warmup_steps': 8, 'lr_decay_steps': 368, 'start_date': '31-01-2022', 'resume': False, 'credentials': 'DO', 'seed': 1, 'p_num': 8, 'explanation': 'Running the whole SlotAttention+Slash pipeline using poon-domingos as SPN structure learner.', 'depth': None, 'num_repetitions': None}\n",
      "dict_keys(['combined_net', 'slot_net', 'resume', 'test_ap_list', 'loss_list', 'test_metric_list', 'lr_list', 'num_params', 'time', 'exp_dict', 'program'])\n",
      "using poon-domingos\n"
     ]
    }
   ],
   "source": [
    "#MODEL = \"most_probable_with_slot_with_lr_decay\"\n",
    "MODEL = \"shapeworld4_ablation1_256\"\n",
    "#data/one_to_one_pretrained_test_2/slash_slot_models.pt\n",
    "class_count = 3\n",
    "num_slots = 4\n",
    "bg_encoded = False\n",
    "\n",
    "\n",
    "model_path = \"data/\"+MODEL+\"/slash_slot_models.pt\" \n",
    "models = torch.load(model_path)\n",
    "\n",
    "exp_dict = models['exp_dict']\n",
    "print(exp_dict)\n",
    "\n",
    "print(models.keys())\n",
    "program = models['program']\n",
    "\n",
    "#setup new SLASH program given the network parameters\n",
    "if exp_dict['structure'] == 'poon-domingos':\n",
    "    exp_dict['depth'] = None\n",
    "    exp_dict['num_repetitions'] = None\n",
    "    print(\"using poon-domingos\")\n",
    "\n",
    "elif exp_dict['structure'] == 'binary-trees':\n",
    "    exp_dict['pd_num_pieces'] = None\n",
    "    print(\"using binary-trees\")\n",
    "\n",
    "\n",
    "#NETWORKS\n",
    "\n",
    "#color network\n",
    "    # color network\n",
    "color_net = NPP_SlotAttention_classifier(in_channels=32, out_channels=9)\n",
    "\n",
    "# shape network\n",
    "shape_net = NPP_SlotAttention_classifier(in_channels=32, out_channels=4)\n",
    "\n",
    "# shade network\n",
    "shade_net = NPP_SlotAttention_classifier(in_channels=32, out_channels=3)\n",
    "\n",
    "# size network\n",
    "size_net = NPP_SlotAttention_classifier(in_channels=32, out_channels=3)\n",
    "    \n",
    "#create the Slot Attention network\n",
    "slot_net = SlotAttention_model(n_slots=num_slots, n_iters=3, n_attr=18,\n",
    "                                encoder_hidden_channels=32, attention_hidden_channels=64,\n",
    "                                decoder_hidden_channels=32, decoder_initial_size=(32, 32)).to(device='cuda')# was 32*32 and 128\n",
    "\n",
    "\n",
    "\n",
    "#load all model parts\n",
    "#shape_net.load_state_dict(models['shape_net'])\n",
    "#color_net.load_state_dict(models['color_net'])\n",
    "#shade_net.load_state_dict(models['shade_net'])\n",
    "#size_net.load_state_dict(models['size_net'])\n",
    "\n",
    "#slot_net.load_state_dict(models['slot_net'])\n",
    "\n",
    "\n",
    "\n",
    "\n",
    "s_params = list(shape_net.parameters()) + list(slot_net.parameters())\n",
    "c_params = list(color_net.parameters()) + list(slot_net.parameters())\n",
    "\n",
    "\n",
    "#create the SLASH Program\n",
    "nnMapping = {'color': color_net,\n",
    "                 'shape':shape_net,\n",
    "                 'shade':shade_net,\n",
    "                 'size':size_net}\n",
    "optimizers = {'color': torch.optim.Adam(c_params, lr=0.0004, eps=1e-7),\n",
    "              'shape':torch.optim.Adam(s_params, lr=0.004, eps=1e-7)}\n",
    "SLASHobj = SLASH(program, nnMapping, optimizers)"
   ]
  },
  {
   "cell_type": "code",
   "execution_count": null,
   "id": "6128be10",
   "metadata": {},
   "outputs": [
    {
     "ename": "NameError",
     "evalue": "name 'SLASHobj' is not defined",
     "output_type": "error",
     "traceback": [
      "\u001b[0;31m---------------------------------------------------------------------------\u001b[0m",
      "\u001b[0;31mNameError\u001b[0m                                 Traceback (most recent call last)",
      "\u001b[0;32m<ipython-input-13-24cd74231fc8>\u001b[0m in \u001b[0;36m<module>\u001b[0;34m\u001b[0m\n\u001b[1;32m      1\u001b[0m \u001b[0;31m#self.mvpp['program'], self.mvpp['program_pr'], self.mvpp['program_asp'] = self.parse(query='')\u001b[0m\u001b[0;34m\u001b[0m\u001b[0;34m\u001b[0m\u001b[0;34m\u001b[0m\u001b[0m\n\u001b[1;32m      2\u001b[0m \u001b[0;34m\u001b[0m\u001b[0m\n\u001b[0;32m----> 3\u001b[0;31m \u001b[0mprint\u001b[0m\u001b[0;34m(\u001b[0m\u001b[0mSLASHobj\u001b[0m\u001b[0;34m.\u001b[0m\u001b[0mmvpp\u001b[0m\u001b[0;34m[\u001b[0m\u001b[0;34m'program_pr'\u001b[0m\u001b[0;34m]\u001b[0m\u001b[0;34m)\u001b[0m\u001b[0;34m\u001b[0m\u001b[0;34m\u001b[0m\u001b[0m\n\u001b[0m\u001b[1;32m      4\u001b[0m \u001b[0;34m\u001b[0m\u001b[0m\n\u001b[1;32m      5\u001b[0m \u001b[0mprint\u001b[0m\u001b[0;34m(\u001b[0m\u001b[0;34m\"\\n\\n\"\u001b[0m\u001b[0;34m)\u001b[0m\u001b[0;34m\u001b[0m\u001b[0;34m\u001b[0m\u001b[0m\n",
      "\u001b[0;31mNameError\u001b[0m: name 'SLASHobj' is not defined"
     ]
    }
   ],
   "source": [
    "#self.mvpp['program'], self.mvpp['program_pr'], self.mvpp['program_asp'] = self.parse(query='')\n",
    "\n",
    "print(SLASHobj.mvpp['program_pr'])\n",
    "\n",
    "print(\"\\n\\n\")\n",
    "print(SLASHobj.mvpp['program_asp'])"
   ]
  },
  {
   "cell_type": "markdown",
   "id": "af7d878b",
   "metadata": {},
   "source": [
    "# Model predictions"
   ]
  },
  {
   "cell_type": "code",
   "execution_count": null,
   "id": "51743570",
   "metadata": {},
   "outputs": [
    {
     "name": "stderr",
     "output_type": "stream",
     "text": [
      "100%|██████████| 5/5 [00:04<00:00,  1.16it/s]"
     ]
    },
    {
     "name": "stdout",
     "output_type": "stream",
     "text": [
      "5000 5000\n"
     ]
    },
    {
     "name": "stderr",
     "output_type": "stream",
     "text": [
      "\n"
     ]
    },
    {
     "ename": "NameError",
     "evalue": "name 'SLASHobj' is not defined",
     "output_type": "error",
     "traceback": [
      "\u001b[0;31m---------------------------------------------------------------------------\u001b[0m",
      "\u001b[0;31mNameError\u001b[0m                                 Traceback (most recent call last)",
      "\u001b[0;32m<ipython-input-14-0d93a60f1c87>\u001b[0m in \u001b[0;36m<module>\u001b[0;34m\u001b[0m\n\u001b[1;32m      2\u001b[0m \u001b[0mprint\u001b[0m\u001b[0;34m(\u001b[0m\u001b[0mlen\u001b[0m\u001b[0;34m(\u001b[0m\u001b[0mdataList\u001b[0m\u001b[0;34m)\u001b[0m\u001b[0;34m,\u001b[0m \u001b[0mlen\u001b[0m\u001b[0;34m(\u001b[0m\u001b[0mqueryList\u001b[0m\u001b[0;34m)\u001b[0m\u001b[0;34m)\u001b[0m\u001b[0;34m\u001b[0m\u001b[0;34m\u001b[0m\u001b[0m\n\u001b[1;32m      3\u001b[0m \u001b[0;34m\u001b[0m\u001b[0m\n\u001b[0;32m----> 4\u001b[0;31m \u001b[0minference\u001b[0m\u001b[0;34m,\u001b[0m \u001b[0mout\u001b[0m \u001b[0;34m=\u001b[0m \u001b[0mSLASHobj\u001b[0m\u001b[0;34m.\u001b[0m\u001b[0mforward_slot_attention_pipeline\u001b[0m\u001b[0;34m(\u001b[0m\u001b[0mslot_net\u001b[0m\u001b[0;34m=\u001b[0m\u001b[0mslot_net\u001b[0m\u001b[0;34m,\u001b[0m \u001b[0mdata_batch\u001b[0m\u001b[0;34m=\u001b[0m \u001b[0mdataList\u001b[0m\u001b[0;34m[\u001b[0m\u001b[0;36m5\u001b[0m\u001b[0;34m]\u001b[0m\u001b[0;34m)\u001b[0m\u001b[0;34m\u001b[0m\u001b[0;34m\u001b[0m\u001b[0m\n\u001b[0m\u001b[1;32m      5\u001b[0m \u001b[0;34m\u001b[0m\u001b[0m\n",
      "\u001b[0;31mNameError\u001b[0m: name 'SLASHobj' is not defined"
     ]
    }
   ],
   "source": [
    "dataList, queryList, objList = get_data_and_object_list(SHAPEWORLD4('../../data/shapeworld4/',\"val\"), 1, shuffle=False)\n",
    "print(len(dataList), len(queryList))\n",
    "\n",
    "inference, out = SLASHobj.forward_slot_attention_pipeline(slot_net=slot_net, data_batch= dataList[5])\n",
    "\n"
   ]
  },
  {
   "cell_type": "code",
   "execution_count": null,
   "id": "4ca04b2d",
   "metadata": {},
   "outputs": [],
   "source": [
    "def interpret_inference(inference,print_query =True):\n",
    "\n",
    "    \n",
    "    inference_list = []\n",
    "    \n",
    "    \"\"\"\n",
    "    pc(color(1,X),[red, blue, green, gray, brown, magenta, cyan, yellow, black]) :- slot(X).\n",
    "    pc(shape(1,X),[circle, triangle, square, bg]) :- slot(X).\n",
    "    pc(shade(1,X),[bright, dark, bg]) :- slot(X).\n",
    "    pc(size(1,X),[small, big, bg]) :- slot(X).\"\"\"\n",
    "    \n",
    "    \n",
    "    for slot in inference:\n",
    "        shape = inference[slot]['shape']\n",
    "        color = inference[slot]['color']\n",
    "        shade = inference[slot]['shade']\n",
    "        size = inference[slot]['size']\n",
    "\n",
    "        sid = torch.argmax(shape)\n",
    "        cid = torch.argmax(color)\n",
    "        hid = torch.argmax(shade)\n",
    "        xid = torch.argmax(size)\n",
    "        \n",
    "        s=''\n",
    "        c=''\n",
    "        h=''\n",
    "        x=''\n",
    "        \n",
    "        #print(sid, cid)\n",
    "        if cid == 0:\n",
    "            c= 'red'\n",
    "        elif cid == 1:\n",
    "            c= 'blue'\n",
    "        elif cid == 2:\n",
    "            c= 'green'\n",
    "        elif cid == 3:\n",
    "            c= 'gray'\n",
    "        elif cid == 4:\n",
    "            c= 'brown'\n",
    "        elif cid == 5:\n",
    "            c= 'magenta'            \n",
    "        elif cid == 6:\n",
    "            c= 'cyan'            \n",
    "        elif cid == 7:\n",
    "            c= 'yellow'            \n",
    "        elif cid == 8:\n",
    "            c= 'black'\n",
    "            \n",
    "        if sid == 0:\n",
    "            s='circle'\n",
    "        elif sid == 1:\n",
    "            s='triangle'\n",
    "        elif sid == 2:\n",
    "            s='square'\n",
    "        elif sid == 3:\n",
    "            s='bg'    \n",
    "      \n",
    "                    \n",
    "        if hid == 0:\n",
    "            h='bright'\n",
    "        elif hid == 1:\n",
    "            h='dark'\n",
    "        elif hid == 2:\n",
    "            h='bg'\n",
    "             \n",
    "                    \n",
    "        if xid == 0:\n",
    "            x='small'\n",
    "        elif xid == 1:\n",
    "            x='big'\n",
    "        elif xid == 2:\n",
    "            x='bg'\n",
    "        \n",
    "        if print_query:\n",
    "            print(\"there is a {} {} {} {} in the image.\".format(x, h, c, s))\n",
    "        \n",
    "        #if c != 'black' and s != 'bg': \n",
    "        inference_list.append([c, s])\n",
    "    \n",
    "    return inference_list"
   ]
  },
  {
   "cell_type": "markdown",
   "id": "7a5c856f",
   "metadata": {},
   "source": [
    "### Model tell us what we see in the image! "
   ]
  },
  {
   "cell_type": "code",
   "execution_count": null,
   "id": "c8ff5f5b",
   "metadata": {},
   "outputs": [
    {
     "data": {
      "image/png": "[encoded data removed]",
      "text/plain": [
       "<Figure size 432x288 with 1 Axes>"
      ]
     },
     "metadata": {
      "needs_background": "light"
     },
     "output_type": "display_data"
    },
    {
     "name": "stdout",
     "output_type": "stream",
     "text": [
      "trained with query string:\n",
      ":- not object(o1,red,circle,bright,big). :- not object(o2,magenta,circle,dark,big). :- not object(o3,black,bg, bg, bg). :- not object(o4,black,bg, bg, bg). \n",
      "The model says:\n",
      "there is a big dark red triangle in the image.\n",
      "there is a small dark red triangle in the image.\n",
      "there is a bg bg red bg in the image.\n",
      "there is a small dark red circle in the image.\n",
      "\n",
      "with probabilities:\n",
      "   red,    blue,  green, gray,  brown,magenta,cyan, yellow, black, circle, triangle, square, bg\n",
      "s0 [0.715, 0.029, 0.021, 0.000, 0.008, 0.013, 0.056, 0.157, 0.000] [0.255, 0.503, 0.196, 0.045]\n",
      "s1 [0.608, 0.023, 0.023, 0.000, 0.011, 0.016, 0.116, 0.203, 0.000] [0.230, 0.548, 0.194, 0.027]\n",
      "s2 [0.789, 0.089, 0.048, 0.000, 0.008, 0.008, 0.017, 0.040, 0.000] [0.111, 0.134, 0.200, 0.555]\n",
      "s3 [0.589, 0.126, 0.110, 0.000, 0.005, 0.006, 0.102, 0.062, 0.000] [0.351, 0.227, 0.120, 0.303]\n",
      "   bright, dark,  bg,     small, big,   bg\n",
      "s0 [0.167, 0.808, 0.025] [0.473, 0.475, 0.052]\n",
      "s1 [0.115, 0.872, 0.013] [0.545, 0.431, 0.024]\n",
      "s2 [0.224, 0.103, 0.674] [0.351, 0.095, 0.554]\n",
      "s3 [0.157, 0.638, 0.205] [0.463, 0.144, 0.392]\n",
      "\n",
      " Our GT is:\n",
      " :- not object(o1,red,circle,bright,big). :- not object(o2,magenta,circle,dark,big). :- not object(o3,black,bg, bg, bg). :- not object(o4,black,bg, bg, bg). \n"
     ]
    }
   ],
   "source": [
    "idx = int(np.random.rand()* len(dataList))\n",
    "\n",
    "idx = 4156\n",
    "\n",
    "\n",
    "#plot the image\n",
    "img = np.einsum(\"abc->bca\",dataList[idx]['im'].cpu().numpy().squeeze())\n",
    "\n",
    "#with plt.style.context('dark_background'):\n",
    "plt.imshow((img+1)/2)\n",
    "\n",
    "\n",
    "plt.show()\n",
    "\n",
    "\n",
    "print(\"trained with query string:\")\n",
    "print(queryList[idx])\n",
    "\n",
    "\n",
    "#get the predictions of what is in the image\n",
    "inference, out = SLASHobj.forward_slot_attention_pipeline(slot_net=slot_net, data_batch= dataList[idx])\n",
    "\n",
    "print(\"The model says:\")\n",
    "interpret_inference(inference)\n",
    "\n",
    "\n",
    "print(\"\\nwith probabilities:\")\n",
    "\n",
    "print(\"   red,    blue,  green, gray,  brown,magenta,cyan, yellow, black, circle, triangle, square, bg\")\n",
    "\n",
    "for slot in inference.keys():\n",
    "    \n",
    "    color = (\"[\"+', '.join(['%.3f']*9)+\"]\") % tuple(inference[slot]['color'].cpu().numpy()[0])\n",
    "    shape = (\"[\"+', '.join(['%.3f']*4)+\"]\") % tuple(inference[slot]['shape'].cpu().numpy()[0])\n",
    "    print(slot,color,shape)\n",
    "    \n",
    "print(\"   bright, dark,  bg,     small, big,   bg\")\n",
    "\n",
    "for slot in inference.keys():\n",
    "    shade = (\"[\"+', '.join(['%.3f']*3)+\"]\") % tuple(inference[slot]['shade'].cpu().numpy()[0])\n",
    "    size = (\"[\"+', '.join(['%.3f']*3)+\"]\") % tuple(inference[slot]['size'].cpu().numpy()[0])\n",
    "    print(slot,shade,size)\n",
    "    \n",
    " \n",
    "print(\"\\n Our GT is:\\n\",queryList[idx])\n",
    "\n"
   ]
  },
  {
   "cell_type": "markdown",
   "id": "50ab9277",
   "metadata": {},
   "source": [
    "### Average precision values"
   ]
  },
  {
   "cell_type": "code",
   "execution_count": null,
   "id": "91b50bd1",
   "metadata": {},
   "outputs": [
    {
     "name": "stdout",
     "output_type": "stream",
     "text": [
      "(5000, 4, 20) (5000, 4, 20)\n",
      "avg precision  0.00016811763365655492 tp 250.0 fp 19750.0 tn 0.0 correctly classified 0\n",
      "avg precision color 0.017205355274744642 tp 1718.0 fp 18282.0 tn 0.0 correctly classified 0\n",
      "avg precision shape 0.38492747427610147 tp 11220.0 fp 8780.0 tn 0.0 correctly classified 288\n",
      "avg precision shade 0.45924106854962365 tp 12390.0 fp 7610.0 tn 0.0 correctly classified 521\n",
      "avg precision size 0.47839214459764734 tp 12743.0 fp 7257.0 tn 0.0 correctly classified 601\n"
     ]
    }
   ],
   "source": [
    "dataListArray = np.array(dataList)\n",
    "inference, _ = SLASHobj.forward_slot_attention_pipeline(slot_net=slot_net, data_batch= dataListArray[:])\n",
    "\n",
    "\n",
    "target = np.array(objList)\n",
    "\n",
    "#compute the average precision, tp, fp, tn for color+shape, color, shape\n",
    "pred = ap_utils.inference_map_to_array(inference).cpu().numpy()\n",
    "\n",
    "\n",
    "\n",
    "print(pred.shape,target.shape)\n",
    "\n",
    "ap, true_positives, false_positives, true_negatives, correctly_classified = ap_utils.average_precision(pred, target,-1, \"SHAPEWORLD4\")\n",
    "print(\"avg precision \",ap, \"tp\", true_positives, \"fp\", false_positives, \"tn\", true_negatives, \"correctly classified\",correctly_classified)\n",
    "\n",
    "\n",
    "#color\n",
    "pred_c = ap_utils.inference_map_to_array(inference, only_color=True).cpu().numpy()\n",
    "ap_c, true_positives_c, false_positives_c, true_negatives_c, correctly_classified_c  = ap_utils.average_precision(pred, target,-1, \"SHAPEWORLD4\", only_color = True)\n",
    "print(\"avg precision color\",ap_c, \"tp\", true_positives_c, \"fp\", false_positives_c, \"tn\", true_negatives_c, \"correctly classified\",correctly_classified_c)\n",
    "\n",
    "#shape              \n",
    "pred_s = ap_utils.inference_map_to_array(inference, only_shape=True).cpu().numpy()\n",
    "ap_s, true_positives_s, false_positives_s, true_negatives_s, correctly_classified_s= ap_utils.average_precision(pred_s, target,-1, \"SHAPEWORLD4\", only_shape = True)\n",
    "print(\"avg precision shape\",ap_s, \"tp\", true_positives_s, \"fp\", false_positives_s, \"tn\", true_negatives_s, \"correctly classified\",correctly_classified_s)\n",
    "\n",
    "#shade              \n",
    "pred_h = ap_utils.inference_map_to_array(inference, only_shade=True).cpu().numpy()\n",
    "ap_h, true_positives_h, false_positives_h, true_negatives_h, correctly_classified_h= ap_utils.average_precision(pred_h, target,-1, \"SHAPEWORLD4\", only_shade = True)\n",
    "print(\"avg precision shade\",ap_h, \"tp\", true_positives_h, \"fp\", false_positives_h, \"tn\", true_negatives_h, \"correctly classified\",correctly_classified_h)\n",
    "\n",
    "#shape              \n",
    "pred_x = ap_utils.inference_map_to_array(inference, only_size=True).cpu().numpy()\n",
    "ap_x, true_positives_x, false_positives_x, true_negatives_x, correctly_classified_x= ap_utils.average_precision(pred_x, target,-1, \"SHAPEWORLD4\", only_size = True)\n",
    "print(\"avg precision size\",ap_x, \"tp\", true_positives_x, \"fp\", false_positives_x, \"tn\", true_negatives_x, \"correctly classified\",correctly_classified_x)"
   ]
  },
  {
   "cell_type": "markdown",
   "id": "2023970e",
   "metadata": {},
   "source": [
    "## Log Likelihoods\n",
    "circle 0, triangle 1, square 2\n",
    "red 0, blue 1, green 2\n",
    "            "
   ]
  },
  {
   "cell_type": "code",
   "execution_count": null,
   "id": "033373d7",
   "metadata": {},
   "outputs": [
    {
     "data": {
      "image/png": "[encoded data removed]",
      "text/plain": [
       "<Figure size 720x360 with 1 Axes>"
      ]
     },
     "metadata": {
      "needs_background": "light"
     },
     "output_type": "display_data"
    },
    {
     "data": {
      "image/png": "[encoded data removed]",
      "text/plain": [
       "<Figure size 720x360 with 1 Axes>"
      ]
     },
     "metadata": {
      "needs_background": "light"
     },
     "output_type": "display_data"
    }
   ],
   "source": [
    "test_ll_list = models['test_ll_list']\n",
    "\n",
    "temp= np.zeros((len(test_ll_list), 3))\n",
    "\n",
    "\n",
    "for i, ll in enumerate(test_ll_list):\n",
    "    temp[i,0] = ll[1]\n",
    "    temp[i,1] = ll[0][0]\n",
    "    temp[i,2] = ll[0][1]\n",
    "\n",
    "x = temp.shape[0]\n",
    "x= 250\n",
    "sign = -1\n",
    "\n",
    "    \n",
    "fig = plt.figure(figsize=(10,5))    \n",
    "plt.plot(temp[:x,0], sign*temp[:x,1], label=\"c\")\n",
    "plt.xlabel(\"epochs\")\n",
    "plt.ylabel(\"color log likelihoods\")\n",
    "plt.show()\n",
    "\n",
    "fig = plt.figure(figsize=(10,5))    \n",
    "plt.plot(temp[:x,0], sign*temp[:x,2])\n",
    "plt.xlabel(\"epochs\")\n",
    "plt.ylabel(\"shape log likelihoods\")\n",
    "plt.show()\n",
    "\n",
    "plt.show()\n",
    "\n"
   ]
  },
  {
   "cell_type": "markdown",
   "id": "c964f381",
   "metadata": {},
   "source": [
    "# Average Precision plots"
   ]
  },
  {
   "cell_type": "code",
   "execution_count": 5,
   "id": "3203765f",
   "metadata": {},
   "outputs": [
    {
     "data": {
      "image/png": "[encoded data removed]",
      "text/plain": [
       "<Figure size 576x360 with 1 Axes>"
      ]
     },
     "metadata": {
      "needs_background": "light"
     },
     "output_type": "display_data"
    },
    {
     "name": "stdout",
     "output_type": "stream",
     "text": [
      "5.3859417036911095e-05\n",
      "\n"
     ]
    }
   ],
   "source": [
    "test_ap_list = models['test_ap_list']\n",
    "test_ap_list = np.array(test_ap_list)\n",
    "\n",
    "\n",
    "x= 1000\n",
    "\n",
    "\n",
    "fig, ax = plt.subplots(1, figsize=(8,5))\n",
    "\n",
    "\n",
    "ax.set_xlabel(\"epochs\")\n",
    "ax.set_ylabel(\"average precision\")\n",
    "\n",
    "#ap, ap_c, ap_s, ap_h, ap_x, e\n",
    "\n",
    "ax.plot(test_ap_list[:x,5], test_ap_list[:x,0], label=\"Classification\", linestyle='solid')\n",
    "ax.plot(test_ap_list[:x,5], test_ap_list[:x,1], label=\"Colour\", linestyle='dotted')\n",
    "ax.plot(test_ap_list[:x,5], test_ap_list[:x,2], label=\"Shape\", linestyle='dashed')\n",
    "ax.plot(test_ap_list[:x,5], test_ap_list[:x,3], label=\"Shade\", linestyle='dashdot')\n",
    "ax.plot(test_ap_list[:x,5], test_ap_list[:x,4], label=\"Size\", linestyle=(0,(3,1,1,3)))\n",
    "\n",
    "\n",
    "directory = os.path.dirname(\"plots/\")\n",
    "try:\n",
    "    os.stat(directory)\n",
    "except:\n",
    "    os.mkdir(directory)\n",
    "fig.legend(loc='lower right', bbox_to_anchor=(0.5, 0.13, 0.4, 0.2))\n",
    "fig.savefig('plots/ap_shapeworld4.png', format=\"png\")\n",
    "fig.savefig('plots/ap_shapeworld4.svg', format=\"svg\")\n",
    "\n",
    "\n",
    "plt.show()\n",
    "\n",
    "\n",
    "print(np.max(test_ap_list[:x,0]))\n",
    "print()"
   ]
  },
  {
   "cell_type": "markdown",
   "id": "5c609ed4",
   "metadata": {},
   "source": [
    "# Loss"
   ]
  },
  {
   "cell_type": "code",
   "execution_count": 26,
   "id": "fabc6f02",
   "metadata": {},
   "outputs": [
    {
     "name": "stdout",
     "output_type": "stream",
     "text": [
      "[ 5.67410111e-01  5.26822269e-01  4.83507812e-01  4.99471426e-01\n",
      "  4.62392807e-01  4.39837843e-01  4.20990378e-01  4.36419070e-01\n",
      "  4.21340942e-01  3.91285747e-01  4.42632914e-01  4.05033290e-01\n",
      "  3.84393126e-01  3.76063526e-01  4.10844505e-01  3.28563303e-01\n",
      "  3.26949924e-01  3.63010645e-01  3.41962993e-01  3.41551632e-01\n",
      "  3.36153120e-01  3.26158404e-01  3.26564312e-01  3.44989836e-01\n",
      "  3.13917786e-01  3.57023686e-01  3.87370288e-01  2.79314786e-01\n",
      "  2.70264208e-01  2.83330113e-01  6.35998130e-01  2.66457677e-01\n",
      "  2.63206333e-01  3.10864627e-01  2.73860157e-01  2.60807842e-01\n",
      "  2.51138657e-01  2.94494808e-01  2.48497605e-01  2.68596619e-01\n",
      "  2.73706734e-01  2.45577052e-01  2.49631882e-01  2.77785093e-01\n",
      "  2.98303604e-01  3.10158491e-01  2.64851660e-01  2.74353445e-01\n",
      "  2.64972359e-01  3.21658909e-01  2.67591089e-01  2.41017818e-01\n",
      "  3.07466388e-01  2.48531535e-01  2.78689444e-01  3.01377714e-01\n",
      "  3.22173059e-01  2.59029806e-01  3.19863707e-01  2.82414943e-01\n",
      "  2.74427116e-01  2.56007969e-01  2.72575796e-01  2.65961945e-01\n",
      "  2.73329020e-01  2.78288126e-01  2.65701830e-01  3.58663887e-01\n",
      "  3.04564774e-01  3.21731299e-01  2.69622833e-01  2.73386925e-01\n",
      "  2.73424566e-01  2.51925021e-01  6.51811302e-01  2.50534236e-01\n",
      "  2.54135400e-01  2.24878505e-01  2.46203035e-01  2.46645331e-01\n",
      "  2.81492203e-01  2.70969152e-01  2.95713127e-01  2.25043103e-01\n",
      "  2.71355778e-01  2.37957165e-01  2.55743474e-01  2.22863719e-01\n",
      "  2.89485216e-01  7.83105254e-01  2.13679627e-01  1.73850387e-01\n",
      "  2.12012410e-01  2.37750202e-01  2.25202888e-01  2.76419938e-01\n",
      "  2.09838420e-01  2.16992542e-01  2.17189953e-01  2.15265125e-01\n",
      "  2.06514597e-01  1.90570861e-01  2.31473401e-01  1.92740992e-01\n",
      "  2.09315017e-01  2.26313353e-01  2.22713679e-01  2.32435435e-01\n",
      "  2.83188015e-01  2.45588869e-01  2.20509052e-01  2.11511329e-01\n",
      "  2.82453150e-01  3.02961767e-01  2.64756292e-01  2.61750638e-01\n",
      "  3.04393888e-01  2.36726716e-01  2.62463450e-01  4.14314568e-01\n",
      "  2.25056022e-01  2.13787168e-01  2.76180744e-01  2.94139326e-01\n",
      "  2.79427201e-01  2.97752053e-01  2.62270868e-01  3.26167405e-01\n",
      "  2.53663361e-01  2.37497523e-01  2.78704107e-01  2.78024197e-01\n",
      "  3.09648186e-01  5.73638797e-01  2.75730848e-01  2.18025401e-01\n",
      "  2.18287230e-01  2.32623264e-01  2.54806608e-01  2.02387169e-01\n",
      "  2.40478128e-01  2.18246892e-01  2.36445278e-01  2.63842553e-01\n",
      "  2.15380862e-01  2.39085406e-01  2.44325995e-01  2.49855518e-01\n",
      "  2.28015751e-01  2.27830172e-01  2.65975773e-01  3.55977058e-01\n",
      "  2.16824263e-01  1.87880233e-01  1.94020882e-01  3.48536223e-01\n",
      "  2.52344787e-01  1.53997988e-01  2.26113036e-01  2.14936808e-01\n",
      "  1.39042825e-01  1.81838080e-01  1.53240129e-01  1.50055334e-01\n",
      "  1.34263724e-01  1.53045326e-01  1.62367150e-01  1.73302472e-01\n",
      "  1.37463301e-01  2.07159445e-01  1.38128310e-01  9.73065421e-02\n",
      "  1.36626676e-01  1.57919794e-01  1.61343843e-01  1.36171386e-01\n",
      "  1.84101015e-01  1.27714127e-01  1.54053092e-01  9.37321633e-02\n",
      "  9.09376591e-02  1.57742307e-01  1.01692818e-01  9.32272077e-02\n",
      "  1.07195690e-01  2.38544136e-01  9.29473788e-02  9.50007662e-02\n",
      "  9.58497971e-02  5.04696667e-02  1.10462047e-01  9.00788158e-02\n",
      "  5.57456724e-02  3.79058048e-02  1.34066418e-01  1.23175427e-01\n",
      "  1.02843925e-01  8.29788074e-02  7.88549259e-02  9.65605527e-02\n",
      "  4.67624813e-02  7.91686624e-02  7.74258822e-02  5.50780408e-02\n",
      "  1.68675601e-01  6.52492270e-02  9.52603817e-02  3.98559347e-02\n",
      "  5.15175685e-02  6.79653138e-02  6.53638616e-02  1.23889729e-01\n",
      "  4.55380194e-02  6.34578243e-02  6.59538880e-02  1.15350761e-01\n",
      "  3.35490219e-02  7.17601776e-02  5.06492145e-02  2.91440282e-02\n",
      "  2.70315558e-02  6.34775236e-02  2.66029648e-02  2.95448098e-02\n",
      "  7.52684623e-02  7.94789046e-02  1.34862989e-01  3.78402397e-02\n",
      "  5.96250519e-02  4.01857570e-02  1.65001944e-01  1.02641389e-01\n",
      "  1.60471220e-02  1.63109396e-02  5.35892844e-02 -1.93818659e-03\n",
      " -4.92208172e-03  4.71316166e-02  1.36382475e-01  8.50355178e-02\n",
      "  1.08579104e-03  2.40522530e-02  2.51110606e-02  2.09450051e-02\n",
      "  3.26614678e-02  4.05573286e-02  3.89830582e-03  4.35998440e-02\n",
      "  4.22158651e-02  6.56213909e-02  7.02105183e-03  8.61316733e-03\n",
      " -4.37956257e-03  7.61800772e-03  1.79639123e-02  1.50219068e-01\n",
      "  2.24984512e-02  2.85259876e-02 -1.10751968e-02  3.14732864e-02\n",
      "  9.02085230e-02  1.72308255e-02  3.50751132e-02  1.16412761e-02\n",
      " -1.05754687e-02  7.19431788e-03  9.92269255e-03  3.62945125e-02\n",
      "  5.63307852e-03  5.27486093e-02 -5.27122524e-03 -4.91058361e-03\n",
      "  1.30251227e-02  3.81294033e-03 -4.12498647e-03  1.73964594e-02\n",
      "  4.93400637e-03  7.47769326e-03  1.67419910e-02 -1.59608647e-02\n",
      "  9.90929455e-03  6.89312816e-02 -4.94889915e-03  1.15682441e-03\n",
      "  2.75278866e-01 -2.30441652e-02  7.60631859e-02  3.38907763e-02\n",
      "  1.88937653e-02  3.52738723e-02 -2.74371617e-02 -4.84868661e-02\n",
      " -3.75625503e-04 -4.13445309e-02  3.95508483e-02 -1.73845701e-03\n",
      "  2.64545325e-02 -5.99436602e-03 -4.20648679e-02 -1.55437114e-02\n",
      " -3.06647308e-02 -3.18658538e-02 -3.86652164e-02 -1.09678237e-02\n",
      " -3.70542631e-02 -2.37183347e-02 -3.56605789e-03 -4.88473363e-02\n",
      " -3.97767387e-02 -1.71316769e-02 -1.22614801e-02 -4.68379119e-03\n",
      " -2.89405100e-02 -4.92262244e-02 -3.64364381e-03 -1.64297894e-02\n",
      " -3.26452777e-02 -5.47432415e-02 -2.50501186e-02 -4.81585898e-02\n",
      " -6.47890717e-02 -5.29321544e-02 -3.91574837e-02  3.43733584e-03\n",
      " -2.68795043e-02 -1.03031695e-02 -4.32129875e-02 -4.67245020e-02\n",
      " -3.70128751e-02 -4.74513173e-02 -4.84369025e-02  1.01489246e-01\n",
      "  5.67982905e-02 -2.17355676e-02  7.19897915e-03  2.58545987e-02\n",
      "  6.95866346e-03 -9.99823399e-03  8.63611698e-04  2.06342228e-02\n",
      "  6.80624843e-02  5.10541312e-02  4.85984385e-02 -6.77380571e-03\n",
      "  1.31174456e-02 -2.68210769e-02 -5.65077439e-02 -5.71421012e-02\n",
      " -9.00057517e-03  6.74445182e-03  1.09936018e-02  2.93124206e-02\n",
      " -8.85053538e-03 -2.82485783e-03 -2.56932825e-02 -5.85038215e-03\n",
      " -8.10063444e-03 -1.16154039e-02 -9.38341580e-03 -1.70751568e-02\n",
      " -4.32500243e-02 -4.43345904e-02 -4.16675732e-02 -3.48029397e-02\n",
      " -5.05107157e-02 -5.82760796e-02 -5.06690070e-02 -1.75867528e-02\n",
      " -2.56437249e-02  8.09754655e-02 -3.16626430e-02 -1.38370525e-02\n",
      " -4.54293564e-02  5.21859527e-01 -2.56202873e-02 -3.68759595e-02\n",
      " -6.75452203e-02 -8.50612894e-02 -5.75038083e-02 -7.44575858e-02\n",
      " -5.31366281e-02 -4.37269621e-02 -6.83785230e-02 -5.90020902e-02\n",
      " -5.63323498e-02 -5.61667569e-02 -3.83773074e-02 -4.88399044e-02\n",
      " -4.72934321e-02 -6.90382496e-02 -6.77842125e-02 -8.50441903e-02\n",
      " -9.62208956e-02 -6.51740283e-02 -8.56131241e-02 -8.65144879e-02\n",
      " -7.85801932e-02 -7.15618730e-02  1.69894487e-01 -1.23986583e-02\n",
      " -3.73122394e-02 -1.25182476e-02  3.78196174e-03  1.10366140e-02\n",
      " -9.02770162e-02 -7.38399029e-02 -7.07625896e-02 -7.31723905e-02\n",
      " -1.45254182e-02 -5.54868951e-02 -5.21309599e-02 -8.06621537e-02\n",
      " -2.58646011e-02 -6.95921630e-02 -7.79276192e-02 -8.77361223e-02\n",
      " -5.15338257e-02 -6.81082383e-02 -8.76992717e-02 -6.15969226e-02\n",
      " -6.27533421e-02 -7.93078393e-02 -9.30695161e-02 -7.08217397e-02\n",
      " -4.61540036e-02 -7.19327480e-02 -4.71158624e-02 -6.56834096e-02\n",
      " -6.88852295e-02 -5.86697049e-02 -8.27254876e-02 -6.72980547e-02\n",
      " -7.57693648e-02 -3.96228358e-02 -5.95892742e-02 -4.82730567e-02\n",
      " -6.30110279e-02 -9.03716534e-02 -4.47846726e-02 -8.51773173e-02\n",
      " -5.61518297e-02 -6.92235455e-02 -6.71537966e-02 -5.24007306e-02\n",
      " -8.03206265e-02 -8.75682160e-02 -4.03812006e-02 -6.71527386e-02\n",
      " -3.27885523e-02 -7.57769868e-02 -9.49199870e-02 -6.03424683e-02\n",
      " -6.42811209e-02 -9.06174332e-02 -1.07962988e-01 -9.01873633e-02\n",
      " -7.65048638e-02 -9.01047215e-02 -5.57906032e-02 -7.89995044e-02\n",
      " -7.74612278e-02 -8.02289248e-02 -8.59916657e-02 -9.45875645e-02\n",
      " -7.54326284e-02]\n"
     ]
    },
    {
     "data": {
      "image/png": "[encoded data removed]",
      "text/plain": [
       "<Figure size 576x360 with 1 Axes>"
      ]
     },
     "metadata": {
      "needs_background": "light"
     },
     "output_type": "display_data"
    }
   ],
   "source": [
    "fig, ax = plt.subplots(1, figsize=(8,5))\n",
    "loss_list = np.array(models['loss_list'])\n",
    "loss_list = loss_list\n",
    "ax.plot(loss_list)\n",
    "print(loss_list)\n",
    "ax.set_xlabel(\"epochs\")\n",
    "ax.set_ylabel(\"loss\")\n",
    "fig.savefig('plots/loss_shapeworld4.png', format=\"png\")\n"
   ]
  },
  {
   "cell_type": "markdown",
   "id": "a87c83f2",
   "metadata": {},
   "source": [
    "### lr rates for slot attention module"
   ]
  },
  {
   "cell_type": "code",
   "execution_count": null,
   "id": "a65fab9b",
   "metadata": {},
   "outputs": [
    {
     "ename": "IndexError",
     "evalue": "too many indices for array: array is 1-dimensional, but 2 were indexed",
     "output_type": "error",
     "traceback": [
      "\u001b[0;31m---------------------------------------------------------------------------\u001b[0m",
      "\u001b[0;31mIndexError\u001b[0m                                Traceback (most recent call last)",
      "\u001b[0;32m<ipython-input-11-89ec0c101a83>\u001b[0m in \u001b[0;36m<module>\u001b[0;34m\u001b[0m\n\u001b[1;32m     12\u001b[0m \u001b[0;34m\u001b[0m\u001b[0m\n\u001b[1;32m     13\u001b[0m \u001b[0;34m\u001b[0m\u001b[0m\n\u001b[0;32m---> 14\u001b[0;31m \u001b[0max1\u001b[0m\u001b[0;34m.\u001b[0m\u001b[0mplot\u001b[0m\u001b[0;34m(\u001b[0m\u001b[0mepochs\u001b[0m\u001b[0;34m,\u001b[0m \u001b[0mlr\u001b[0m\u001b[0;34m[\u001b[0m\u001b[0;34m:\u001b[0m\u001b[0;34m,\u001b[0m\u001b[0;36m1\u001b[0m\u001b[0;34m]\u001b[0m\u001b[0;34m)\u001b[0m\u001b[0;34m\u001b[0m\u001b[0;34m\u001b[0m\u001b[0m\n\u001b[0m\u001b[1;32m     15\u001b[0m \u001b[0;34m\u001b[0m\u001b[0m\n\u001b[1;32m     16\u001b[0m \u001b[0mfig1\u001b[0m\u001b[0;34m.\u001b[0m\u001b[0msavefig\u001b[0m\u001b[0;34m(\u001b[0m\u001b[0;34m'plots/learning_rate.svg'\u001b[0m\u001b[0;34m,\u001b[0m \u001b[0mformat\u001b[0m\u001b[0;34m=\u001b[0m\u001b[0;34m\"svg\"\u001b[0m\u001b[0;34m)\u001b[0m\u001b[0;34m\u001b[0m\u001b[0;34m\u001b[0m\u001b[0m\n",
      "\u001b[0;31mIndexError\u001b[0m: too many indices for array: array is 1-dimensional, but 2 were indexed"
     ]
    },
    {
     "data": {
      "image/png": "[encoded data removed]",
      "text/plain": [
       "<Figure size 432x288 with 1 Axes>"
      ]
     },
     "metadata": {
      "needs_background": "light"
     },
     "output_type": "display_data"
    }
   ],
   "source": [
    "lr_list = np.array( models['lr_list'])\n",
    "epochs = lr_list[:,1]\n",
    "lr=np.stack(lr_list[:,0])\n",
    "\n",
    "fig1, ax1 = plt.subplots()\n",
    "\n",
    "\n",
    "#fig = plt.figure()  \n",
    "ax1.set_title(\"learning rate slot attention module\")\n",
    "ax1.set_ylabel(\"learning rate\")\n",
    "ax1.set_xlabel(\"epochs\")\n",
    "\n",
    "\n",
    "ax1.plot(epochs, lr[:,1])\n",
    "\n",
    "fig1.savefig('plots/learning_rate.svg', format=\"svg\")\n",
    "plt.show()\n"
   ]
  },
  {
   "cell_type": "markdown",
   "id": "3b3c0287",
   "metadata": {},
   "source": [
    "# OLD \n",
    "\n",
    "\n",
    "# Model comparison\n",
    "\n",
    "### Average Precision\n"
   ]
  },
  {
   "cell_type": "code",
   "execution_count": null,
   "id": "a377d40c",
   "metadata": {},
   "outputs": [
    {
     "ename": "FileNotFoundError",
     "evalue": "[Errno 2] No such file or directory: 'data/most_prob_pd_endtoend/slash_slot_models.pt'",
     "output_type": "error",
     "traceback": [
      "\u001b[0;31m---------------------------------------------------------------------------\u001b[0m",
      "\u001b[0;31mFileNotFoundError\u001b[0m                         Traceback (most recent call last)",
      "\u001b[0;32m<ipython-input-12-f19bba0eea00>\u001b[0m in \u001b[0;36m<module>\u001b[0;34m\u001b[0m\n\u001b[1;32m     21\u001b[0m \u001b[0;32mfor\u001b[0m \u001b[0mmp\u001b[0m \u001b[0;32min\u001b[0m \u001b[0mmodel_paths\u001b[0m\u001b[0;34m:\u001b[0m\u001b[0;34m\u001b[0m\u001b[0;34m\u001b[0m\u001b[0m\n\u001b[1;32m     22\u001b[0m     \u001b[0mmodel_path\u001b[0m \u001b[0;34m=\u001b[0m \u001b[0;34m\"data/\"\u001b[0m\u001b[0;34m+\u001b[0m\u001b[0mmp\u001b[0m\u001b[0;34m+\u001b[0m\u001b[0;34m\"/slash_slot_models.pt\"\u001b[0m\u001b[0;34m\u001b[0m\u001b[0;34m\u001b[0m\u001b[0m\n\u001b[0;32m---> 23\u001b[0;31m     \u001b[0mmodels\u001b[0m \u001b[0;34m=\u001b[0m \u001b[0mtorch\u001b[0m\u001b[0;34m.\u001b[0m\u001b[0mload\u001b[0m\u001b[0;34m(\u001b[0m\u001b[0mmodel_path\u001b[0m\u001b[0;34m)\u001b[0m\u001b[0;34m\u001b[0m\u001b[0;34m\u001b[0m\u001b[0m\n\u001b[0m\u001b[1;32m     24\u001b[0m \u001b[0;34m\u001b[0m\u001b[0m\n\u001b[1;32m     25\u001b[0m     \u001b[0mtest_ap_list\u001b[0m \u001b[0;34m=\u001b[0m \u001b[0mmodels\u001b[0m\u001b[0;34m[\u001b[0m\u001b[0;34m'test_ap_list'\u001b[0m\u001b[0;34m]\u001b[0m\u001b[0;34m\u001b[0m\u001b[0;34m\u001b[0m\u001b[0m\n",
      "\u001b[0;32m~/.local/lib/python3.6/site-packages/torch/serialization.py\u001b[0m in \u001b[0;36mload\u001b[0;34m(f, map_location, pickle_module, **pickle_load_args)\u001b[0m\n\u001b[1;32m    579\u001b[0m         \u001b[0mpickle_load_args\u001b[0m\u001b[0;34m[\u001b[0m\u001b[0;34m'encoding'\u001b[0m\u001b[0;34m]\u001b[0m \u001b[0;34m=\u001b[0m \u001b[0;34m'utf-8'\u001b[0m\u001b[0;34m\u001b[0m\u001b[0;34m\u001b[0m\u001b[0m\n\u001b[1;32m    580\u001b[0m \u001b[0;34m\u001b[0m\u001b[0m\n\u001b[0;32m--> 581\u001b[0;31m     \u001b[0;32mwith\u001b[0m \u001b[0m_open_file_like\u001b[0m\u001b[0;34m(\u001b[0m\u001b[0mf\u001b[0m\u001b[0;34m,\u001b[0m \u001b[0;34m'rb'\u001b[0m\u001b[0;34m)\u001b[0m \u001b[0;32mas\u001b[0m \u001b[0mopened_file\u001b[0m\u001b[0;34m:\u001b[0m\u001b[0;34m\u001b[0m\u001b[0;34m\u001b[0m\u001b[0m\n\u001b[0m\u001b[1;32m    582\u001b[0m         \u001b[0;32mif\u001b[0m \u001b[0m_is_zipfile\u001b[0m\u001b[0;34m(\u001b[0m\u001b[0mopened_file\u001b[0m\u001b[0;34m)\u001b[0m\u001b[0;34m:\u001b[0m\u001b[0;34m\u001b[0m\u001b[0;34m\u001b[0m\u001b[0m\n\u001b[1;32m    583\u001b[0m             \u001b[0;31m# The zipfile reader is going to advance the current file position.\u001b[0m\u001b[0;34m\u001b[0m\u001b[0;34m\u001b[0m\u001b[0;34m\u001b[0m\u001b[0m\n",
      "\u001b[0;32m~/.local/lib/python3.6/site-packages/torch/serialization.py\u001b[0m in \u001b[0;36m_open_file_like\u001b[0;34m(name_or_buffer, mode)\u001b[0m\n\u001b[1;32m    228\u001b[0m \u001b[0;32mdef\u001b[0m \u001b[0m_open_file_like\u001b[0m\u001b[0;34m(\u001b[0m\u001b[0mname_or_buffer\u001b[0m\u001b[0;34m,\u001b[0m \u001b[0mmode\u001b[0m\u001b[0;34m)\u001b[0m\u001b[0;34m:\u001b[0m\u001b[0;34m\u001b[0m\u001b[0;34m\u001b[0m\u001b[0m\n\u001b[1;32m    229\u001b[0m     \u001b[0;32mif\u001b[0m \u001b[0m_is_path\u001b[0m\u001b[0;34m(\u001b[0m\u001b[0mname_or_buffer\u001b[0m\u001b[0;34m)\u001b[0m\u001b[0;34m:\u001b[0m\u001b[0;34m\u001b[0m\u001b[0;34m\u001b[0m\u001b[0m\n\u001b[0;32m--> 230\u001b[0;31m         \u001b[0;32mreturn\u001b[0m \u001b[0m_open_file\u001b[0m\u001b[0;34m(\u001b[0m\u001b[0mname_or_buffer\u001b[0m\u001b[0;34m,\u001b[0m \u001b[0mmode\u001b[0m\u001b[0;34m)\u001b[0m\u001b[0;34m\u001b[0m\u001b[0;34m\u001b[0m\u001b[0m\n\u001b[0m\u001b[1;32m    231\u001b[0m     \u001b[0;32melse\u001b[0m\u001b[0;34m:\u001b[0m\u001b[0;34m\u001b[0m\u001b[0;34m\u001b[0m\u001b[0m\n\u001b[1;32m    232\u001b[0m         \u001b[0;32mif\u001b[0m \u001b[0;34m'w'\u001b[0m \u001b[0;32min\u001b[0m \u001b[0mmode\u001b[0m\u001b[0;34m:\u001b[0m\u001b[0;34m\u001b[0m\u001b[0;34m\u001b[0m\u001b[0m\n",
      "\u001b[0;32m~/.local/lib/python3.6/site-packages/torch/serialization.py\u001b[0m in \u001b[0;36m__init__\u001b[0;34m(self, name, mode)\u001b[0m\n\u001b[1;32m    209\u001b[0m \u001b[0;32mclass\u001b[0m \u001b[0m_open_file\u001b[0m\u001b[0;34m(\u001b[0m\u001b[0m_opener\u001b[0m\u001b[0;34m)\u001b[0m\u001b[0;34m:\u001b[0m\u001b[0;34m\u001b[0m\u001b[0;34m\u001b[0m\u001b[0m\n\u001b[1;32m    210\u001b[0m     \u001b[0;32mdef\u001b[0m \u001b[0m__init__\u001b[0m\u001b[0;34m(\u001b[0m\u001b[0mself\u001b[0m\u001b[0;34m,\u001b[0m \u001b[0mname\u001b[0m\u001b[0;34m,\u001b[0m \u001b[0mmode\u001b[0m\u001b[0;34m)\u001b[0m\u001b[0;34m:\u001b[0m\u001b[0;34m\u001b[0m\u001b[0;34m\u001b[0m\u001b[0m\n\u001b[0;32m--> 211\u001b[0;31m         \u001b[0msuper\u001b[0m\u001b[0;34m(\u001b[0m\u001b[0m_open_file\u001b[0m\u001b[0;34m,\u001b[0m \u001b[0mself\u001b[0m\u001b[0;34m)\u001b[0m\u001b[0;34m.\u001b[0m\u001b[0m__init__\u001b[0m\u001b[0;34m(\u001b[0m\u001b[0mopen\u001b[0m\u001b[0;34m(\u001b[0m\u001b[0mname\u001b[0m\u001b[0;34m,\u001b[0m \u001b[0mmode\u001b[0m\u001b[0;34m)\u001b[0m\u001b[0;34m)\u001b[0m\u001b[0;34m\u001b[0m\u001b[0;34m\u001b[0m\u001b[0m\n\u001b[0m\u001b[1;32m    212\u001b[0m \u001b[0;34m\u001b[0m\u001b[0m\n\u001b[1;32m    213\u001b[0m     \u001b[0;32mdef\u001b[0m \u001b[0m__exit__\u001b[0m\u001b[0;34m(\u001b[0m\u001b[0mself\u001b[0m\u001b[0;34m,\u001b[0m \u001b[0;34m*\u001b[0m\u001b[0margs\u001b[0m\u001b[0;34m)\u001b[0m\u001b[0;34m:\u001b[0m\u001b[0;34m\u001b[0m\u001b[0;34m\u001b[0m\u001b[0m\n",
      "\u001b[0;31mFileNotFoundError\u001b[0m: [Errno 2] No such file or directory: 'data/most_prob_pd_endtoend/slash_slot_models.pt'"
     ]
    },
    {
     "data": {
      "image/png": "[encoded data removed]",
      "text/plain": [
       "<Figure size 720x432 with 1 Axes>"
      ]
     },
     "metadata": {
      "needs_background": "light"
     },
     "output_type": "display_data"
    },
    {
     "data": {
      "image/png": "[encoded data removed]",
      "text/plain": [
       "<Figure size 720x432 with 1 Axes>"
      ]
     },
     "metadata": {
      "needs_background": "light"
     },
     "output_type": "display_data"
    },
    {
     "data": {
      "image/png": "[encoded data removed]",
      "text/plain": [
       "<Figure size 720x432 with 1 Axes>"
      ]
     },
     "metadata": {
      "needs_background": "light"
     },
     "output_type": "display_data"
    }
   ],
   "source": [
    "model_paths = [\"most_prob_pd_endtoend\", \"most_prob_bt_endtoend\", \"most_prob_pd_pretrained\" , \"most_prob_bt_pretrained\"]\n",
    "\n",
    "\n",
    "\n",
    "fig1, ax1 = plt.subplots(figsize=(10,6))\n",
    "fig2, ax2 = plt.subplots(figsize=(10,6))\n",
    "fig3, ax3 = plt.subplots(figsize=(10,6))\n",
    "\n",
    "#fig = plt.figure()  \n",
    "ax1.set_title(\"Test Average Precision (matching criterion=shape+color)\")\n",
    "ax1.set_ylabel(\"average precision\")\n",
    "ax1.set_xlabel(\"epochs\")\n",
    "ax2.set_title(\"Test Average Precision (matching criterion=color)\")\n",
    "ax2.set_ylabel(\"average precision\")\n",
    "ax2.set_xlabel(\"epochs\")\n",
    "ax3.set_title(\"Test Average Precision (matching criterion=shape)\")\n",
    "ax3.set_ylabel(\"average precision\")\n",
    "ax3.set_xlabel(\"epochs\")\n",
    "\n",
    "\n",
    "for mp in model_paths:\n",
    "    model_path = \"data/\"+mp+\"/slash_slot_models.pt\" \n",
    "    models = torch.load(model_path)\n",
    "\n",
    "    test_ap_list = models['test_ap_list']\n",
    "    \n",
    "    print(models['time'][0], mp)\n",
    "    test_ap_list= np.array(test_ap_list)\n",
    "    \n",
    "    style=\"-\"\n",
    "    if models['exp_dict']['structure'] == 'poon-domingos':\n",
    "        style=\"--\"\n",
    "    #print(test_ap_list.shape)\n",
    "    x= 350\n",
    "\n",
    "\n",
    "    ax1.plot(test_ap_list[:x,3], test_ap_list[:x,0],style, label=mp)    \n",
    "    ax2.plot(test_ap_list[:x,3], test_ap_list[:x,1],style, label=mp)    \n",
    "    ax3.plot(test_ap_list[:x,3], test_ap_list[:x,2],style, label=mp)    \n",
    "\n",
    "    ax1.legend()\n",
    "    ax2.legend()\n",
    "    ax3.legend()\n",
    "\n",
    "    fig1.savefig('plots/ap.svg', format=\"svg\")\n",
    "    fig2.savefig('plots/ap_color.svg', format=\"svg\")\n",
    "    fig3.savefig('plots/ap_shape.svg', format=\"svg\")\n",
    "\n",
    "    \n",
    "plt.show()"
   ]
  },
  {
   "cell_type": "code",
   "execution_count": null,
   "id": "33469c30",
   "metadata": {},
   "outputs": [],
   "source": [
    "### log likelihoods"
   ]
  },
  {
   "cell_type": "code",
   "execution_count": null,
   "id": "84ae0fdf",
   "metadata": {},
   "outputs": [],
   "source": [
    "model_paths = [\"most_prob_pd_endtoend\", \"most_prob_bt_endtoend\", \"most_prob_pd_pretrained\" , \"most_prob_bt_pretrained\"]\n",
    "\n",
    "\n",
    "\n",
    "fig1, ax1 = plt.subplots(figsize=(10,6))\n",
    "fig2, ax2 = plt.subplots(figsize=(10,6))\n",
    "fig3, ax3 = plt.subplots(figsize=(10,6))\n",
    "\n",
    "#fig = plt.figure()  \n",
    "ax1.set_title(\"Test Average Precision (matching criterion=shape+color)\")\n",
    "ax1.set_ylabel(\"average precision\")\n",
    "ax1.set_xlabel(\"epochs\")\n",
    "ax2.set_title(\"Test Average Precision (matching criterion=color)\")\n",
    "ax2.set_ylabel(\"average precision\")\n",
    "ax2.set_xlabel(\"epochs\")\n",
    "ax3.set_title(\"Test Average Precision (matching criterion=shape)\")\n",
    "ax3.set_ylabel(\"average precision\")\n",
    "ax3.set_xlabel(\"epochs\")\n",
    "\n",
    "\n",
    "for mp in model_paths:\n",
    "    model_path = \"data/\"+mp+\"/slash_slot_models.pt\" \n",
    "    models = torch.load(model_path)\n",
    "\n",
    "    test_ap_list = models['test_ap_list']\n",
    "    test_ap_list= np.array(test_ap_list)\n",
    "    \n",
    "    style=\"-\"\n",
    "    if models['exp_dict']['structure'] == 'poon-domingos':\n",
    "        style=\"--\"\n",
    "    print(test_ap_list.shape)\n",
    "    x= 350\n",
    "\n",
    "\n",
    "    ax1.plot(test_ap_list[:x,3], test_ap_list[:x,0],style, label=mp)    \n",
    "    ax2.plot(test_ap_list[:x,3], test_ap_list[:x,1],style, label=mp)    \n",
    "    ax3.plot(test_ap_list[:x,3], test_ap_list[:x,2],style, label=mp)    \n",
    "\n",
    "    ax1.legend()\n",
    "    ax2.legend()\n",
    "    ax3.legend()\n",
    "plt.show()"
   ]
  },
  {
   "cell_type": "markdown",
   "id": "1b9cb3f9",
   "metadata": {},
   "source": [
    "# true positives"
   ]
  },
  {
   "cell_type": "code",
   "execution_count": null,
   "id": "69691527",
   "metadata": {},
   "outputs": [],
   "source": [
    "\"\"\"\n",
    "test_metric_list.append([true_positives, false_positives, true_negatives,correctly_classified,\n",
    "                         true_positives_c, false_positives_c, true_negatives_c, correctly_classified_c,\n",
    "                         true_positives_s, false_positives_s, true_negatives_s, correctly_classified_s])\n",
    "\"\"\"\n",
    "\n",
    "model_path = \"data/most_prob_pd_endtoend/slash_slot_models.pt\" \n",
    "models = torch.load(model_path)\n",
    "\n",
    "print(models.keys())\n",
    "\n",
    "\n",
    "test_metric_list = np.array(models['test_metric_list'])\n",
    "\n",
    "correctly_classified =  test_metric_list[:350,3]\n",
    "correctly_classified_color =  test_metric_list[:350,7]\n",
    "correctly_classified_shape =  test_metric_list[:350,11]\n",
    "\n",
    "\n",
    "\n",
    "fig1, ax1 = plt.subplots(figsize=(10,6))\n",
    "ax1.set_title(\"Number of correctly classified samples on test set (5000 samples)\")\n",
    "ax1.set_ylabel(\"# correctly classified samples\")\n",
    "ax1.set_xlabel(\"epochs\")\n",
    "\n",
    "ax1.plot(correctly_classified,style, label=\"color+shape\")\n",
    "ax1.plot(np.argmax(correctly_classified), np.max(correctly_classified), 'r*')\n",
    "\n",
    "ax1.plot(correctly_classified_color,style, label=\"color\")\n",
    "ax1.plot(np.argmax(correctly_classified_color), np.max(correctly_classified_color), 'r*')\n",
    "\n",
    "ax1.plot(correctly_classified_shape, style, label=\"shape\")\n",
    "ax1.plot(np.argmax(correctly_classified_shape), np.max(correctly_classified_shape), 'r*')\n",
    "\n",
    "\n",
    "ax1.legend()\n",
    "\n",
    "\n",
    "fig1.savefig('plots/correctly_classified.svg', format=\"svg\")\n",
    "\n",
    "\n",
    "print(max_value, max_index)\n",
    "plt.plot()"
   ]
  },
  {
   "cell_type": "code",
   "execution_count": null,
   "id": "bb6b881d",
   "metadata": {},
   "outputs": [],
   "source": [
    "\n",
    "    "
   ]
  }
 ],
 "metadata": {
  "kernelspec": {
   "display_name": "Python 3",
   "language": "python",
   "name": "python3"
  },
  "language_info": {
   "codemirror_mode": {
    "name": "ipython",
    "version": 3
   },
   "file_extension": ".py",
   "mimetype": "text/x-python",
   "name": "python",
   "nbconvert_exporter": "python",
   "pygments_lexer": "ipython3",
   "version": "3.8.10"
  }
 },
 "nbformat": 4,
 "nbformat_minor": 5
}
